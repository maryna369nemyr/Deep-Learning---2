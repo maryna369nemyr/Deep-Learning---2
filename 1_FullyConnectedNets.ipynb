{
 "cells": [
  {
   "cell_type": "markdown",
   "metadata": {},
   "source": [
    "# Fully-Connected Neural Nets\n",
    "In the previous homework you implemented a fully-connected two-layer neural network on CIFAR-10. The implementation was simple but not very modular since the loss and gradient were computed in a single monolithic function. This is manageable for a simple two-layer network, but would become impractical as we move to bigger models. Ideally we want to build networks using a more modular design so that we can implement different layer types in isolation and then snap them together into models with different architectures.\n",
    "\n",
    "In this exercise we will implement fully-connected networks using a more modular approach. For each layer we will implement a `forward` and a `backward` function. The `forward` function will receive inputs, weights, and other parameters and will return both an output and a `cache` object storing data needed for the backward pass, like this:\n",
    "\n",
    "```python\n",
    "def layer_forward(x, w):\n",
    "  \"\"\" Receive inputs x and weights w \"\"\"\n",
    "  # Do some computations ...\n",
    "  z = # ... some intermediate value\n",
    "  # Do some more computations ...\n",
    "  out = # the output\n",
    "   \n",
    "  cache = (x, w, z, out) # Values we need to compute gradients\n",
    "   \n",
    "  return out, cache\n",
    "```\n",
    "\n",
    "The backward pass will receive upstream derivatives and the `cache` object, and will return gradients with respect to the inputs and weights, like this:\n",
    "\n",
    "```python\n",
    "def layer_backward(dout, cache):\n",
    "  \"\"\"\n",
    "  Receive derivative of loss with respect to outputs and cache,\n",
    "  and compute derivative with respect to inputs.\n",
    "  \"\"\"\n",
    "  # Unpack cache values\n",
    "  x, w, z, out = cache\n",
    "  \n",
    "  # Use values in cache to compute derivatives\n",
    "  dx = # Derivative of loss with respect to x\n",
    "  dw = # Derivative of loss with respect to w\n",
    "  \n",
    "  return dx, dw\n",
    "```\n",
    "\n",
    "After implementing a bunch of layers this way, we will be able to easily combine them to build classifiers with different architectures.\n",
    "\n",
    "In addition to implementing fully-connected networks of arbitrary depth, we will also explore different update rules for optimization, and introduce Dropout as a regularizer and Batch Normalization as a tool to more efficiently optimize deep networks.\n",
    "  "
   ]
  },
  {
   "cell_type": "code",
   "execution_count": 1,
   "metadata": {
    "collapsed": true
   },
   "outputs": [],
   "source": [
    "# As usual, a bit of setup\n",
    "\n",
    "import time\n",
    "import numpy as np\n",
    "import matplotlib.pyplot as plt\n",
    "from exercise_code.classifiers.fc_net import *\n",
    "from exercise_code.data_utils import get_CIFAR10_data\n",
    "from exercise_code.gradient_check import eval_numerical_gradient, eval_numerical_gradient_array\n",
    "from exercise_code.solver import Solver\n",
    "\n",
    "%matplotlib inline\n",
    "plt.rcParams['figure.figsize'] = (10.0, 8.0) # set default size of plots\n",
    "plt.rcParams['image.interpolation'] = 'nearest'\n",
    "plt.rcParams['image.cmap'] = 'gray'\n",
    "\n",
    "# for auto-reloading external modules\n",
    "# see http://stackoverflow.com/questions/1907993/autoreload-of-modules-in-ipython\n",
    "%load_ext autoreload\n",
    "%autoreload 2\n",
    "\n",
    "# supress cluttering warnings in solutions\n",
    "import warnings\n",
    "warnings.filterwarnings('ignore')\n",
    "\n",
    "def rel_error(x, y):\n",
    "  \"\"\" returns relative error \"\"\"\n",
    "  return np.max(np.abs(x - y) / (np.maximum(1e-8, np.abs(x) + np.abs(y))))\n"
   ]
  },
  {
   "cell_type": "code",
   "execution_count": 2,
   "metadata": {},
   "outputs": [
    {
     "name": "stdout",
     "output_type": "stream",
     "text": [
      "X_train:  (48000, 3, 32, 32)\n",
      "y_train:  (48000,)\n",
      "X_val:  (1000, 3, 32, 32)\n",
      "y_val:  (1000,)\n",
      "X_test:  (1000, 3, 32, 32)\n",
      "y_test:  (1000,)\n"
     ]
    }
   ],
   "source": [
    "# Load the (preprocessed) CIFAR10 data.\n",
    "\n",
    "data = get_CIFAR10_data()\n",
    "for k, v in data.items():\n",
    "    print('%s: ' % k, v.shape)"
   ]
  },
  {
   "cell_type": "markdown",
   "metadata": {},
   "source": [
    "# Affine layer: foward\n",
    "Open the file `exercise_code/layers.py` and implement the `affine_forward` function.\n",
    "\n",
    "Once you are done you can test your implementaion by running the following:"
   ]
  },
  {
   "cell_type": "code",
   "execution_count": 6,
   "metadata": {},
   "outputs": [
    {
     "name": "stdout",
     "output_type": "stream",
     "text": [
      "Testing affine_forward function:\n",
      "difference:  9.7698500479884e-10\n"
     ]
    }
   ],
   "source": [
    "# Test the affine_forward function\n",
    "\n",
    "num_inputs = 2\n",
    "input_shape = (4, 5, 6)\n",
    "output_dim = 3\n",
    "\n",
    "input_size = num_inputs * np.prod(input_shape)\n",
    "weight_size = output_dim * np.prod(input_shape)\n",
    "\n",
    "x = np.linspace(-0.1, 0.5, num=input_size).reshape(num_inputs, *input_shape)\n",
    "w = np.linspace(-0.2, 0.3, num=weight_size).reshape(np.prod(input_shape), output_dim)\n",
    "b = np.linspace(-0.3, 0.1, num=output_dim)\n",
    "\n",
    "out, _ = affine_forward(x, w, b)\n",
    "correct_out = np.array([[ 1.49834967,  1.70660132,  1.91485297],\n",
    "                        [ 3.25553199,  3.5141327,   3.77273342]])\n",
    "\n",
    "# Compare your output with ours. The error should be around 1e-9.\n",
    "print('Testing affine_forward function:')\n",
    "print('difference: ', rel_error(out, correct_out))"
   ]
  },
  {
   "cell_type": "markdown",
   "metadata": {},
   "source": [
    "# Affine layer: backward\n",
    "Now implement the `affine_backward` function and test your implementation using numeric gradient checking."
   ]
  },
  {
   "cell_type": "code",
   "execution_count": 7,
   "metadata": {},
   "outputs": [
    {
     "name": "stdout",
     "output_type": "stream",
     "text": [
      "Testing affine_backward function:\n",
      "dx error:  1.984140119765601e-10\n",
      "dw error:  6.955379664485164e-10\n",
      "db error:  4.312709930940418e-12\n"
     ]
    }
   ],
   "source": [
    "# Test the affine_backward function\n",
    "\n",
    "x = np.random.randn(10, 2, 3)\n",
    "w = np.random.randn(6, 5)\n",
    "b = np.random.randn(5)\n",
    "dout = np.random.randn(10, 5)\n",
    "\n",
    "dx_num = eval_numerical_gradient_array(lambda x: affine_forward(x, w, b)[0], x, dout)\n",
    "dw_num = eval_numerical_gradient_array(lambda w: affine_forward(x, w, b)[0], w, dout)\n",
    "db_num = eval_numerical_gradient_array(lambda b: affine_forward(x, w, b)[0], b, dout)\n",
    "\n",
    "_, cache = affine_forward(x, w, b)\n",
    "dx, dw, db = affine_backward(dout, cache)\n",
    "\n",
    "# The error should be around 1e-10\n",
    "print('Testing affine_backward function:')\n",
    "print('dx error: ', rel_error(dx_num, dx))\n",
    "print('dw error: ', rel_error(dw_num, dw))\n",
    "print('db error: ', rel_error(db_num, db))"
   ]
  },
  {
   "cell_type": "markdown",
   "metadata": {},
   "source": [
    "# ReLU layer: forward\n",
    "Implement the forward pass for the ReLU activation function in the `relu_forward` function and test your implementation using the following:"
   ]
  },
  {
   "cell_type": "code",
   "execution_count": 8,
   "metadata": {},
   "outputs": [
    {
     "name": "stdout",
     "output_type": "stream",
     "text": [
      "Testing relu_forward function:\n",
      "difference:  4.999999798022158e-08\n"
     ]
    }
   ],
   "source": [
    "# Test the relu_forward function\n",
    "\n",
    "x = np.linspace(-0.5, 0.5, num=12).reshape(3, 4)\n",
    "\n",
    "out, _ = relu_forward(x)\n",
    "correct_out = np.array([[ 0.,          0.,          0.,          0.,        ],\n",
    "                        [ 0.,          0.,          0.04545455,  0.13636364,],\n",
    "                        [ 0.22727273,  0.31818182,  0.40909091,  0.5,       ]])\n",
    "\n",
    "# Compare your output with ours. The error should be around 1e-8\n",
    "print('Testing relu_forward function:')\n",
    "print('difference: ', rel_error(out, correct_out))"
   ]
  },
  {
   "cell_type": "markdown",
   "metadata": {},
   "source": [
    "# ReLU layer: backward\n",
    "Now implement the backward pass for the ReLU activation function in the `relu_backward` function and test your implementation using numeric gradient checking:"
   ]
  },
  {
   "cell_type": "code",
   "execution_count": 9,
   "metadata": {},
   "outputs": [
    {
     "name": "stdout",
     "output_type": "stream",
     "text": [
      "Testing relu_backward function:\n",
      "dx error:  3.275613573275154e-12\n"
     ]
    }
   ],
   "source": [
    "x = np.random.randn(10, 10)\n",
    "dout = np.random.randn(*x.shape)\n",
    "\n",
    "dx_num = eval_numerical_gradient_array(lambda x: relu_forward(x)[0], x, dout)\n",
    "\n",
    "_, cache = relu_forward(x)\n",
    "dx = relu_backward(dout, cache)\n",
    "\n",
    "# The error should be around 1e-12\n",
    "print('Testing relu_backward function:')\n",
    "print('dx error: ', rel_error(dx_num, dx))"
   ]
  },
  {
   "cell_type": "markdown",
   "metadata": {},
   "source": [
    "# \"Sandwich\" layers\n",
    "There are some common patterns of layers that are frequently used in neural nets. For example, affine layers are frequently followed by a ReLU nonlinearity. To make these common patterns easy, we define several convenience layers in the file `exercise_code/layer_utils.py`.\n",
    "\n",
    "For now take a look at the `affine_relu_forward` and `affine_relu_backward` functions, and run the following to numerically gradient check the backward pass:"
   ]
  },
  {
   "cell_type": "code",
   "execution_count": 165,
   "metadata": {},
   "outputs": [
    {
     "name": "stdout",
     "output_type": "stream",
     "text": [
      "(2, 10) (2, 10)\n",
      "Testing affine_relu_forward:\n",
      "dx error:  5.674580954304425e-10\n",
      "dw error:  3.2315683196394204e-10\n",
      "db error:  2.548003881312749e-11\n"
     ]
    }
   ],
   "source": [
    "from exercise_code.layer_utils import affine_relu_forward, affine_relu_backward\n",
    "\n",
    "x = np.random.randn(2, 3, 4)\n",
    "w = np.random.randn(12, 10)\n",
    "b = np.random.randn(10)\n",
    "dout = np.random.randn(2, 10)\n",
    "\n",
    "out, cache = affine_relu_forward(x, w, b)\n",
    "dx, dw, db = affine_relu_backward(dout, cache)\n",
    "\n",
    "dx_num = eval_numerical_gradient_array(lambda x: affine_relu_forward(x, w, b)[0], x, dout)\n",
    "dw_num = eval_numerical_gradient_array(lambda w: affine_relu_forward(x, w, b)[0], w, dout)\n",
    "db_num = eval_numerical_gradient_array(lambda b: affine_relu_forward(x, w, b)[0], b, dout)\n",
    "\n",
    "print('Testing affine_relu_forward:')\n",
    "print('dx error: ', rel_error(dx_num, dx))\n",
    "print('dw error: ', rel_error(dw_num, dw))\n",
    "print('db error: ', rel_error(db_num, db))"
   ]
  },
  {
   "cell_type": "markdown",
   "metadata": {},
   "source": [
    "# Loss layers: Softmax\n",
    "You implemented this loss function in the last assignment, so we'll give them to you for free here. You should still make sure you understand how they work by looking at the implementations in `exercise_code/layers.py`.\n",
    "\n",
    "You can make sure that the implementations are correct by running the following:"
   ]
  },
  {
   "cell_type": "code",
   "execution_count": 11,
   "metadata": {},
   "outputs": [
    {
     "name": "stdout",
     "output_type": "stream",
     "text": [
      "\n",
      "Testing softmax_loss:\n",
      "loss:  2.302696086885435\n",
      "dx error:  7.5104039098222e-09\n"
     ]
    }
   ],
   "source": [
    "num_classes, num_inputs = 10, 50\n",
    "x = 0.001 * np.random.randn(num_inputs, num_classes)\n",
    "y = np.random.randint(num_classes, size=num_inputs)\n",
    "\n",
    "dx_num = eval_numerical_gradient(lambda x: softmax_loss(x, y)[0], x, verbose=False)\n",
    "loss, dx = softmax_loss(x, y)\n",
    "\n",
    "# Test softmax_loss function. Loss should be 2.3 and dx error should be 1e-8\n",
    "print('\\nTesting softmax_loss:')\n",
    "print('loss: ', loss)\n",
    "print('dx error: ', rel_error(dx_num, dx))"
   ]
  },
  {
   "cell_type": "markdown",
   "metadata": {},
   "source": [
    "# Two-layer network\n",
    "In the previous assignment you implemented a two-layer neural network in a single monolithic class. Now that you have implemented modular versions of the necessary layers, you will reimplement the two layer network using these modular implementations.\n",
    "\n",
    "Open the file `exercise_code/classifiers/fc_net.py` and complete the implementation of the `TwoLayerNet` class. This class will serve as a model for the other networks you will implement in this assignment, so read through it to make sure you understand the API. You can run the cell below to test your implementation."
   ]
  },
  {
   "cell_type": "code",
   "execution_count": 221,
   "metadata": {},
   "outputs": [
    {
     "name": "stdout",
     "output_type": "stream",
     "text": [
      "Testing initialization ... \n",
      "Testing test-time forward pass ... \n",
      "Testing training loss\n",
      "Running numeric gradient check with reg =  0.0\n",
      "W1 relative error: 1.53e-08\n",
      "W2 relative error: 3.89e-10\n",
      "b1 relative error: 6.55e-09\n",
      "b2 relative error: 3.08e-10\n",
      "Running numeric gradient check with reg =  0.7\n",
      "W1 relative error: 2.53e-07\n",
      "W2 relative error: 1.37e-07\n",
      "b1 relative error: 1.56e-08\n",
      "b2 relative error: 9.09e-10\n"
     ]
    }
   ],
   "source": [
    "N, D, H, C = 3, 5, 50, 7\n",
    "X = np.random.randn(N, D)\n",
    "y = np.random.randint(C, size=N)\n",
    "\n",
    "std = 1e-2\n",
    "model = TwoLayerNet(input_dim=D, hidden_dim=H, num_classes=C, weight_scale=std)\n",
    "\n",
    "print('Testing initialization ... ')\n",
    "W1_std = abs(model.params['W1'].std() - std)\n",
    "b1 = model.params['b1']\n",
    "W2_std = abs(model.params['W2'].std() - std)\n",
    "b2 = model.params['b2']\n",
    "assert W1_std < std / 10, 'First layer weights do not seem right'\n",
    "assert np.all(b1 == 0), 'First layer biases do not seem right'\n",
    "assert W2_std < std / 10, 'Second layer weights do not seem right'\n",
    "assert np.all(b2 == 0), 'Second layer biases do not seem right'\n",
    "\n",
    "print('Testing test-time forward pass ... ')\n",
    "model.params['W1'] = np.linspace(-0.7, 0.3, num=D*H).reshape(D, H)\n",
    "model.params['b1'] = np.linspace(-0.1, 0.9, num=H)\n",
    "model.params['W2'] = np.linspace(-0.3, 0.4, num=H*C).reshape(H, C)\n",
    "model.params['b2'] = np.linspace(-0.9, 0.1, num=C)\n",
    "X = np.linspace(-5.5, 4.5, num=N*D).reshape(D, N).T\n",
    "scores = model.loss(X)\n",
    "correct_scores = np.asarray(\n",
    "  [[11.53165108,  12.2917344,   13.05181771,  13.81190102,  14.57198434, 15.33206765,  16.09215096],\n",
    "   [12.05769098,  12.74614105,  13.43459113,  14.1230412,   14.81149128, 15.49994135,  16.18839143],\n",
    "   [12.58373087,  13.20054771,  13.81736455,  14.43418138,  15.05099822, 15.66781506,  16.2846319 ]])\n",
    "scores_diff = np.abs(scores - correct_scores).sum()\n",
    "assert scores_diff < 1e-6, 'Problem with test-time forward pass'\n",
    "\n",
    "print('Testing training loss')\n",
    "y = np.asarray([0, 5, 1])\n",
    "loss, grads = model.loss(X, y)\n",
    "correct_loss = 3.4702243556\n",
    "assert abs(loss - correct_loss) < 1e-10, 'Problem with training-time loss'\n",
    "\n",
    "model.reg = 1.0\n",
    "loss, grads = model.loss(X, y)\n",
    "correct_loss = 26.5948426952\n",
    "assert abs(loss - correct_loss) < 1e-10, 'Problem with regularization loss'\n",
    "\n",
    "for reg in [0.0, 0.7]:\n",
    "  print('Running numeric gradient check with reg = ', reg)\n",
    "  model.reg = reg\n",
    "  loss, grads = model.loss(X, y)\n",
    "\n",
    "  for name in sorted(grads):\n",
    "    f = lambda _: model.loss(X, y)[0]\n",
    "    grad_num = eval_numerical_gradient(f, model.params[name], verbose=False)\n",
    "    print('%s relative error: %.2e' % (name, rel_error(grad_num, grads[name])))"
   ]
  },
  {
   "cell_type": "markdown",
   "metadata": {},
   "source": [
    "# Solver\n",
    "In the previous assignment, the logic for training models was coupled to the models themselves. Following a more modular design, for this assignment we have split the logic for training models into a separate class.\n",
    "\n",
    "Open the file `exercise_code/solver.py` and read through it to familiarize yourself with the API. After doing so, use a `Solver` instance to train a `TwoLayerNet` that achieves at least `50%` accuracy on the validation set."
   ]
  },
  {
   "cell_type": "code",
   "execution_count": 215,
   "metadata": {},
   "outputs": [
    {
     "name": "stdout",
     "output_type": "stream",
     "text": [
      "(48000, 3, 32, 32) (1000, 3, 32, 32)\n",
      "(Iteration 1 / 2400) loss: 3.458782\n",
      "(Epoch 0 / 10) train acc: 0.194000; val_acc: 0.183000\n",
      "(Iteration 101 / 2400) loss: 2.760085\n",
      "(Iteration 201 / 2400) loss: 2.671964\n",
      "(Epoch 1 / 10) train acc: 0.418000; val_acc: 0.434000\n",
      "(Iteration 301 / 2400) loss: 2.622790\n",
      "(Iteration 401 / 2400) loss: 2.496934\n",
      "(Epoch 2 / 10) train acc: 0.470000; val_acc: 0.459000\n",
      "(Iteration 501 / 2400) loss: 2.349152\n",
      "(Iteration 601 / 2400) loss: 2.469660\n",
      "(Iteration 701 / 2400) loss: 2.167607\n",
      "(Epoch 3 / 10) train acc: 0.545000; val_acc: 0.497000\n",
      "(Iteration 801 / 2400) loss: 2.266621\n",
      "(Iteration 901 / 2400) loss: 1.994931\n",
      "(Epoch 4 / 10) train acc: 0.559000; val_acc: 0.501000\n",
      "(Iteration 1001 / 2400) loss: 2.004293\n",
      "(Iteration 1101 / 2400) loss: 1.760270\n",
      "(Epoch 5 / 10) train acc: 0.548000; val_acc: 0.499000\n",
      "(Iteration 1201 / 2400) loss: 1.875503\n",
      "(Iteration 1301 / 2400) loss: 1.800910\n",
      "(Iteration 1401 / 2400) loss: 1.976599\n",
      "(Epoch 6 / 10) train acc: 0.585000; val_acc: 0.497000\n",
      "(Iteration 1501 / 2400) loss: 1.888525\n",
      "(Iteration 1601 / 2400) loss: 1.683760\n",
      "(Epoch 7 / 10) train acc: 0.562000; val_acc: 0.524000\n",
      "(Iteration 1701 / 2400) loss: 1.692360\n",
      "(Iteration 1801 / 2400) loss: 1.942858\n",
      "(Iteration 1901 / 2400) loss: 1.786443\n",
      "(Epoch 8 / 10) train acc: 0.572000; val_acc: 0.509000\n",
      "(Iteration 2001 / 2400) loss: 1.800941\n",
      "(Iteration 2101 / 2400) loss: 1.707580\n",
      "(Epoch 9 / 10) train acc: 0.643000; val_acc: 0.530000\n",
      "(Iteration 2201 / 2400) loss: 1.572921\n",
      "(Iteration 2301 / 2400) loss: 1.611724\n",
      "(Epoch 10 / 10) train acc: 0.606000; val_acc: 0.534000\n"
     ]
    }
   ],
   "source": [
    "#model = TwoLayerNet(hidden_dim=150, reg=1e-3, weight_scale=1e-3)\n",
    "model = TwoLayerNet(hidden_dim=1500, reg=0.5, weight_scale=1e-3)\n",
    "solver = None\n",
    "\n",
    "##############################################################################\n",
    "# TODO: Use a Solver instance to train a TwoLayerNet that achieves at least  #\n",
    "# 50% accuracy on the validation set.                                        #\n",
    "##############################################################################\n",
    "#num_train = 48000\n",
    "X_train  = data['X_train']\n",
    "X_val =  data['X_val']\n",
    "y_train = data['y_train']\n",
    "y_val = data['y_val']\n",
    "print(X_train.shape, X_val.shape)\n",
    "\n",
    "mydata = {\n",
    "  'X_train': X_train,\n",
    "  'y_train': y_train,\n",
    "  'X_val': X_val,\n",
    "  'y_val': y_val,\n",
    "}\n",
    "\n",
    "solver = Solver(model, mydata, update_rule='sgd', optim_config={'learning_rate': 6.95e-4,},\n",
    "                lr_decay=0.95, num_epochs=10, batch_size=200, print_every=100)\n",
    "\n",
    "    \n",
    "solver.train()\n",
    "#====================\n",
    "#solver = Solver(model, data, update_rule='adam', optim_config={'learning_rate': 1e-5,},\n",
    "#                lr_decay=0.99, num_epochs=100, batch_size=128, print_every=25)\n",
    "# model =  TwoLayerNet(hidden_dim=150, reg=1e-3, weight_scale=1e-6)\n",
    "#==================\n",
    "#solver = Solver(model, data, update_rule='adam', optim_config={'learning_rate': 1e-4,},\n",
    "#                lr_decay=0.99, num_epochs=100, batch_size=128, print_every=25)\n",
    "\n",
    "#solver2 = Solver(model, data, update_rule='adam', optim_config={'learning_rate': 1e-3,},\n",
    "#                lr_decay=0.95, num_epochs=100, batch_size=64, print_every=25)\n",
    "#solver2.train()\n",
    "\n",
    "\n",
    "pass\n",
    "##############################################################################\n",
    "#                             END OF YOUR CODE                               #\n",
    "##############################################################################"
   ]
  },
  {
   "cell_type": "code",
   "execution_count": 217,
   "metadata": {},
   "outputs": [
    {
     "data": {
      "image/png": "[encoded data removed]",
      "text/plain": [
       "<matplotlib.figure.Figure at 0x7f56f485e3c8>"
      ]
     },
     "metadata": {},
     "output_type": "display_data"
    }
   ],
   "source": [
    "# Run this cell to visualize training loss and train / val accuracy\n",
    "\n",
    "plt.subplot(2, 1, 1)\n",
    "plt.title('Training loss')\n",
    "plt.plot(solver.loss_history, 'o')\n",
    "plt.xlabel('Iteration')\n",
    "\n",
    "plt.subplot(2, 1, 2)\n",
    "plt.title('Accuracy')\n",
    "plt.plot(solver.train_acc_history, '-o', label='train')\n",
    "plt.plot(solver.val_acc_history, '-o', label='val')\n",
    "plt.plot([0.5] * len(solver.val_acc_history), 'k--')\n",
    "plt.xlabel('Epoch')\n",
    "plt.legend(loc='lower right')\n",
    "plt.gcf().set_size_inches(15, 12)\n",
    "plt.show()"
   ]
  },
  {
   "cell_type": "code",
   "execution_count": 218,
   "metadata": {},
   "outputs": [
    {
     "name": "stdout",
     "output_type": "stream",
     "text": [
      "(Iteration 1 / 1870) loss: 12.073931\n",
      "(Epoch 0 / 10) train acc: 0.178000; val_acc: 0.145000\n",
      "(Iteration 101 / 1870) loss: 2.568943\n",
      "(Epoch 1 / 10) train acc: 0.441000; val_acc: 0.396000\n",
      "(Iteration 201 / 1870) loss: 1.911474\n",
      "(Iteration 301 / 1870) loss: 1.892684\n",
      "(Epoch 2 / 10) train acc: 0.451000; val_acc: 0.433000\n",
      "(Iteration 401 / 1870) loss: 1.936928\n",
      "(Iteration 501 / 1870) loss: 1.877546\n",
      "(Epoch 3 / 10) train acc: 0.421000; val_acc: 0.397000\n",
      "(Iteration 601 / 1870) loss: 1.877488\n",
      "(Iteration 701 / 1870) loss: 1.769831\n"
     ]
    },
    {
     "ename": "KeyboardInterrupt",
     "evalue": "",
     "output_type": "error",
     "traceback": [
      "\u001b[0;31m---------------------------------------------------------------------------\u001b[0m",
      "\u001b[0;31mKeyboardInterrupt\u001b[0m                         Traceback (most recent call last)",
      "\u001b[0;32m<ipython-input-218-a27b8af7481f>\u001b[0m in \u001b[0;36m<module>\u001b[0;34m()\u001b[0m\n\u001b[1;32m     17\u001b[0m                 lr_decay=0.95, num_epochs=10, batch_size=256, print_every=100)\n\u001b[1;32m     18\u001b[0m \u001b[0;34m\u001b[0m\u001b[0m\n\u001b[0;32m---> 19\u001b[0;31m \u001b[0msolver2\u001b[0m\u001b[0;34m.\u001b[0m\u001b[0mtrain\u001b[0m\u001b[0;34m(\u001b[0m\u001b[0;34m)\u001b[0m\u001b[0;34m\u001b[0m\u001b[0m\n\u001b[0m\u001b[1;32m     20\u001b[0m \u001b[0;32mpass\u001b[0m\u001b[0;34m\u001b[0m\u001b[0m\n\u001b[1;32m     21\u001b[0m \u001b[0;31m##############################################################################\u001b[0m\u001b[0;34m\u001b[0m\u001b[0;34m\u001b[0m\u001b[0m\n",
      "\u001b[0;32m/home/marina/Desktop/uni/i2dl/exercise_2/exercise_code/solver.py\u001b[0m in \u001b[0;36mtrain\u001b[0;34m(self)\u001b[0m\n\u001b[1;32m    221\u001b[0m \u001b[0;34m\u001b[0m\u001b[0m\n\u001b[1;32m    222\u001b[0m         \u001b[0;32mfor\u001b[0m \u001b[0mt\u001b[0m \u001b[0;32min\u001b[0m \u001b[0mrange\u001b[0m\u001b[0;34m(\u001b[0m\u001b[0mnum_iterations\u001b[0m\u001b[0;34m)\u001b[0m\u001b[0;34m:\u001b[0m\u001b[0;34m\u001b[0m\u001b[0m\n\u001b[0;32m--> 223\u001b[0;31m             \u001b[0mself\u001b[0m\u001b[0;34m.\u001b[0m\u001b[0m_step\u001b[0m\u001b[0;34m(\u001b[0m\u001b[0;34m)\u001b[0m\u001b[0;34m\u001b[0m\u001b[0m\n\u001b[0m\u001b[1;32m    224\u001b[0m \u001b[0;34m\u001b[0m\u001b[0m\n\u001b[1;32m    225\u001b[0m             \u001b[0;31m# Maybe print training loss\u001b[0m\u001b[0;34m\u001b[0m\u001b[0;34m\u001b[0m\u001b[0m\n",
      "\u001b[0;32m/home/marina/Desktop/uni/i2dl/exercise_2/exercise_code/solver.py\u001b[0m in \u001b[0;36m_step\u001b[0;34m(self)\u001b[0m\n\u001b[1;32m    168\u001b[0m             \u001b[0mdw\u001b[0m \u001b[0;34m=\u001b[0m \u001b[0mgrads\u001b[0m\u001b[0;34m[\u001b[0m\u001b[0mp\u001b[0m\u001b[0;34m]\u001b[0m\u001b[0;34m\u001b[0m\u001b[0m\n\u001b[1;32m    169\u001b[0m             \u001b[0mconfig\u001b[0m \u001b[0;34m=\u001b[0m \u001b[0mself\u001b[0m\u001b[0;34m.\u001b[0m\u001b[0moptim_configs\u001b[0m\u001b[0;34m[\u001b[0m\u001b[0mp\u001b[0m\u001b[0;34m]\u001b[0m\u001b[0;34m\u001b[0m\u001b[0m\n\u001b[0;32m--> 170\u001b[0;31m             \u001b[0mnext_w\u001b[0m\u001b[0;34m,\u001b[0m \u001b[0mnext_config\u001b[0m \u001b[0;34m=\u001b[0m \u001b[0mself\u001b[0m\u001b[0;34m.\u001b[0m\u001b[0mupdate_rule\u001b[0m\u001b[0;34m(\u001b[0m\u001b[0mw\u001b[0m\u001b[0;34m,\u001b[0m \u001b[0mdw\u001b[0m\u001b[0;34m,\u001b[0m \u001b[0mconfig\u001b[0m\u001b[0;34m)\u001b[0m\u001b[0;34m\u001b[0m\u001b[0m\n\u001b[0m\u001b[1;32m    171\u001b[0m             \u001b[0mself\u001b[0m\u001b[0;34m.\u001b[0m\u001b[0mmodel\u001b[0m\u001b[0;34m.\u001b[0m\u001b[0mparams\u001b[0m\u001b[0;34m[\u001b[0m\u001b[0mp\u001b[0m\u001b[0;34m]\u001b[0m \u001b[0;34m=\u001b[0m \u001b[0mnext_w\u001b[0m\u001b[0;34m\u001b[0m\u001b[0m\n\u001b[1;32m    172\u001b[0m             \u001b[0mself\u001b[0m\u001b[0;34m.\u001b[0m\u001b[0moptim_configs\u001b[0m\u001b[0;34m[\u001b[0m\u001b[0mp\u001b[0m\u001b[0;34m]\u001b[0m \u001b[0;34m=\u001b[0m \u001b[0mnext_config\u001b[0m\u001b[0;34m\u001b[0m\u001b[0m\n",
      "\u001b[0;32m/home/marina/Desktop/uni/i2dl/exercise_2/exercise_code/optim.py\u001b[0m in \u001b[0;36madam\u001b[0;34m(x, dx, config)\u001b[0m\n\u001b[1;32m     89\u001b[0m     \u001b[0mconfig\u001b[0m\u001b[0;34m.\u001b[0m\u001b[0msetdefault\u001b[0m\u001b[0;34m(\u001b[0m\u001b[0;34m'beta2'\u001b[0m\u001b[0;34m,\u001b[0m \u001b[0;36m0.999\u001b[0m\u001b[0;34m)\u001b[0m\u001b[0;34m\u001b[0m\u001b[0m\n\u001b[1;32m     90\u001b[0m     \u001b[0mconfig\u001b[0m\u001b[0;34m.\u001b[0m\u001b[0msetdefault\u001b[0m\u001b[0;34m(\u001b[0m\u001b[0;34m'epsilon'\u001b[0m\u001b[0;34m,\u001b[0m \u001b[0;36m1e-8\u001b[0m\u001b[0;34m)\u001b[0m\u001b[0;34m\u001b[0m\u001b[0m\n\u001b[0;32m---> 91\u001b[0;31m     \u001b[0mconfig\u001b[0m\u001b[0;34m.\u001b[0m\u001b[0msetdefault\u001b[0m\u001b[0;34m(\u001b[0m\u001b[0;34m'm'\u001b[0m\u001b[0;34m,\u001b[0m \u001b[0mnp\u001b[0m\u001b[0;34m.\u001b[0m\u001b[0mzeros_like\u001b[0m\u001b[0;34m(\u001b[0m\u001b[0mx\u001b[0m\u001b[0;34m)\u001b[0m\u001b[0;34m)\u001b[0m\u001b[0;34m\u001b[0m\u001b[0m\n\u001b[0m\u001b[1;32m     92\u001b[0m     \u001b[0mconfig\u001b[0m\u001b[0;34m.\u001b[0m\u001b[0msetdefault\u001b[0m\u001b[0;34m(\u001b[0m\u001b[0;34m'v'\u001b[0m\u001b[0;34m,\u001b[0m \u001b[0mnp\u001b[0m\u001b[0;34m.\u001b[0m\u001b[0mzeros_like\u001b[0m\u001b[0;34m(\u001b[0m\u001b[0mx\u001b[0m\u001b[0;34m)\u001b[0m\u001b[0;34m)\u001b[0m\u001b[0;34m\u001b[0m\u001b[0m\n\u001b[1;32m     93\u001b[0m     \u001b[0mconfig\u001b[0m\u001b[0;34m.\u001b[0m\u001b[0msetdefault\u001b[0m\u001b[0;34m(\u001b[0m\u001b[0;34m't'\u001b[0m\u001b[0;34m,\u001b[0m \u001b[0;36m0\u001b[0m\u001b[0;34m)\u001b[0m\u001b[0;34m\u001b[0m\u001b[0m\n",
      "\u001b[0;31mKeyboardInterrupt\u001b[0m: "
     ]
    }
   ],
   "source": [
    "#model = TwoLayerNet(hidden_dim=150, reg=1e-3, weight_scale=1e-3)\n",
    "model2 = TwoLayerNet(hidden_dim=150, reg=1e-3, weight_scale=1e-3)\n",
    "solver2 = None\n",
    "\n",
    "##############################################################################\n",
    "# TODO: Use a Solver instance to train a TwoLayerNet that achieves at least  #\n",
    "# 50% accuracy on the validation set.                                        #\n",
    "##############################################################################\n",
    "\n",
    "mydata = {\n",
    "  'X_train': X_train,\n",
    "  'y_train': y_train,\n",
    "  'X_val': X_val,\n",
    "  'y_val': y_val,\n",
    "}\n",
    "solver2 = Solver(model, mydata, update_rule='adam', optim_config={'learning_rate': 5e-4,},\n",
    "                lr_decay=0.95, num_epochs=10, batch_size=256, print_every=100)\n",
    "\n",
    "solver2.train()\n",
    "pass\n",
    "##############################################################################\n",
    "#                             END OF YOUR CODE                               #\n",
    "##############################################################################"
   ]
  },
  {
   "cell_type": "code",
   "execution_count": null,
   "metadata": {
    "collapsed": true
   },
   "outputs": [],
   "source": [
    "# Run this cell to visualize training loss and train / val accuracy\n",
    "\n",
    "plt.subplot(2, 1, 1)\n",
    "plt.title('Training loss')\n",
    "plt.plot(solver2.loss_history, 'o')\n",
    "plt.xlabel('Iteration')\n",
    "\n",
    "plt.subplot(2, 1, 2)\n",
    "plt.title('Accuracy')\n",
    "plt.plot(solver2.train_acc_history, '-o', label='train')\n",
    "plt.plot(solver2.val_acc_history, '-o', label='val')\n",
    "plt.plot([0.5] * len(solver2.val_acc_history), 'k--')\n",
    "plt.xlabel('Epoch')\n",
    "plt.legend(loc='lower right')\n",
    "plt.gcf().set_size_inches(15, 12)\n",
    "plt.show()"
   ]
  },
  {
   "cell_type": "markdown",
   "metadata": {},
   "source": [
    "# Multilayer network\n",
    "Next you will implement a fully-connected network with an arbitrary number of hidden layers.\n",
    "\n",
    "Read through the `FullyConnectedNet` class in the file `exercise_code/classifiers/fc_net.py`.\n",
    "\n",
    "Implement the initialization, the forward pass, and the backward pass. For the moment don't worry about implementing batch normalization."
   ]
  },
  {
   "cell_type": "markdown",
   "metadata": {},
   "source": [
    "## Initial loss and gradient check"
   ]
  },
  {
   "cell_type": "markdown",
   "metadata": {},
   "source": [
    "As a sanity check, run the following to check the initial loss and to gradient check the network both with and without regularization. Do the initial losses seem reasonable?\n",
    "\n",
    "For gradient checking, you should expect to see errors around 1e-6 or less."
   ]
  },
  {
   "cell_type": "code",
   "execution_count": 11,
   "metadata": {},
   "outputs": [
    {
     "name": "stdout",
     "output_type": "stream",
     "text": [
      "Running check with reg =  0\n",
      "Initial loss:  2.3041409516911555\n",
      "W1 relative error: 1.89e-07\n",
      "W2 relative error: 3.24e-07\n",
      "W3 relative error: 2.79e-08\n",
      "b1 relative error: 1.82e-08\n",
      "b2 relative error: 2.41e-09\n",
      "b3 relative error: 8.42e-11\n",
      "Running check with reg =  3.14\n",
      "Initial loss:  6.907331329374789\n",
      "W1 relative error: 2.76e-08\n",
      "W2 relative error: 1.59e-08\n",
      "W3 relative error: 8.49e-09\n",
      "b1 relative error: 5.62e-07\n",
      "b2 relative error: 8.36e-09\n",
      "b3 relative error: 3.73e-10\n"
     ]
    }
   ],
   "source": [
    "\n",
    "##MISTAKE: with teh set seed numerical gradients for W2, W3 regularized and not is the same!\n",
    "N, D, H1, H2, C = 2, 15, 20, 30, 10\n",
    "#np.random.seed(128)\n",
    "X = np.random.randn(N, D)\n",
    "y = np.random.randint(C, size=(N,))\n",
    "\n",
    "#for reg in [0, 3.14]:\n",
    "for reg in [0,3.14]:\n",
    "  print('Running check with reg = ', reg)\n",
    "  model = FullyConnectedNet([H1, H2], input_dim=D, num_classes=C,\n",
    "                            reg=reg, weight_scale=5e-2, dtype=np.float64)\n",
    "\n",
    "  loss, grads = model.loss(X, y)\n",
    "  print('Initial loss: ', loss)\n",
    "  \n",
    "  for name in sorted(grads):\n",
    "    f = lambda _: model.loss(X, y)[0]\n",
    "    grad_num = eval_numerical_gradient(f, model.params[name], verbose=False, h=1e-5)\n",
    "    print('%s relative error: %.2e' % (name, rel_error(grad_num, grads[name])))\n",
    "  "
   ]
  },
  {
   "cell_type": "markdown",
   "metadata": {},
   "source": [
    "As another sanity check, make sure you can overfit a small dataset of 50 images. First we will try a three-layer network with 100 units in each hidden layer. You will need to tweak the learning rate and initialization scale, but you should be able to overfit and achieve 100% **training** accuracy within 20 epochs."
   ]
  },
  {
   "cell_type": "code",
   "execution_count": 15,
   "metadata": {
    "scrolled": false
   },
   "outputs": [
    {
     "name": "stdout",
     "output_type": "stream",
     "text": [
      "(Iteration 1 / 20) loss: 2.301047\n",
      "(Epoch 1 / 20) train acc: 0.380000; val_acc: 0.114000\n",
      "(Epoch 2 / 20) train acc: 0.440000; val_acc: 0.126000\n",
      "(Epoch 3 / 20) train acc: 0.560000; val_acc: 0.141000\n",
      "(Epoch 4 / 20) train acc: 0.420000; val_acc: 0.142000\n",
      "(Epoch 5 / 20) train acc: 0.680000; val_acc: 0.160000\n",
      "(Epoch 6 / 20) train acc: 0.660000; val_acc: 0.164000\n",
      "(Epoch 7 / 20) train acc: 0.660000; val_acc: 0.154000\n",
      "(Epoch 8 / 20) train acc: 0.520000; val_acc: 0.154000\n",
      "(Epoch 9 / 20) train acc: 0.600000; val_acc: 0.126000\n",
      "(Epoch 10 / 20) train acc: 0.720000; val_acc: 0.129000\n",
      "(Iteration 11 / 20) loss: 0.962222\n",
      "(Epoch 11 / 20) train acc: 0.700000; val_acc: 0.168000\n",
      "(Epoch 12 / 20) train acc: 0.700000; val_acc: 0.136000\n",
      "(Epoch 13 / 20) train acc: 0.760000; val_acc: 0.131000\n",
      "(Epoch 14 / 20) train acc: 0.840000; val_acc: 0.170000\n",
      "(Epoch 15 / 20) train acc: 0.720000; val_acc: 0.126000\n",
      "(Epoch 16 / 20) train acc: 0.840000; val_acc: 0.164000\n",
      "(Epoch 17 / 20) train acc: 0.980000; val_acc: 0.162000\n",
      "(Epoch 18 / 20) train acc: 0.980000; val_acc: 0.170000\n",
      "(Epoch 19 / 20) train acc: 1.000000; val_acc: 0.170000\n",
      "(Epoch 20 / 20) train acc: 1.000000; val_acc: 0.173000\n"
     ]
    },
    {
     "data": {
      "image/png": "[encoded data removed]",
      "text/plain": [
       "<matplotlib.figure.Figure at 0x7f909c475b70>"
      ]
     },
     "metadata": {},
     "output_type": "display_data"
    }
   ],
   "source": [
    "# TODO: Use a three-layer Net to overfit 50 training examples.\n",
    "\n",
    "num_train = 50\n",
    "small_data = {\n",
    "  'X_train': data['X_train'][:num_train],\n",
    "  'y_train': data['y_train'][:num_train],\n",
    "  'X_val': data['X_val'],\n",
    "  'y_val': data['y_val'],\n",
    "}\n",
    "\n",
    "weight_scale = 1e-2\n",
    "learning_rate = 2.2e-2\n",
    "model = FullyConnectedNet([100, 100],\n",
    "              weight_scale=weight_scale, dtype=np.float64)\n",
    "solver = Solver(model, small_data,\n",
    "                print_every=10, num_epochs=20, batch_size=128,\n",
    "                update_rule='sgd',\n",
    "                optim_config={\n",
    "                  'learning_rate': learning_rate,\n",
    "                }\n",
    "         )\n",
    "solver.train()\n",
    "\n",
    "plt.plot(solver.loss_history, 'o')\n",
    "plt.title('Training loss history')\n",
    "plt.xlabel('Iteration')\n",
    "plt.ylabel('Training loss')\n",
    "plt.show()"
   ]
  },
  {
   "cell_type": "markdown",
   "metadata": {},
   "source": [
    "Now try to use a five-layer network with 100 units on each layer to overfit 50 training examples. Again you will have to adjust the learning rate and weight initialization, but you should be able to achieve 100% training accuracy within 20 epochs."
   ]
  },
  {
   "cell_type": "code",
   "execution_count": 17,
   "metadata": {
    "scrolled": true
   },
   "outputs": [
    {
     "name": "stdout",
     "output_type": "stream",
     "text": [
      "[0.0, 0.0, 0.0, 0.0, 0.0, 0.0, 0.0, 0.0, 0.0, 0.0, 1.0, 0.1, 0.01, 0.001, 0.0001, 1e-05, 1e-06, 1e-07, 1e-08, 1e-09, 2.0, 0.2, 0.02, 0.002, 0.0002, 2e-05, 2e-06, 2e-07, 2e-08, 2e-09, 3.0, 0.3, 0.03, 0.003, 0.0003, 3e-05, 3e-06, 3e-07, 3e-08, 3e-09, 4.0, 0.4, 0.04, 0.004, 0.0004, 4e-05, 4e-06, 4e-07, 4e-08, 4e-09, 5.0, 0.5, 0.05, 0.005, 0.0005, 5e-05, 5e-06, 5e-07, 5e-08, 5e-09, 6.0, 0.6, 0.06, 0.006, 0.0006, 6e-05, 6e-06, 6e-07, 6e-08, 6e-09, 7.0, 0.7, 0.07, 0.007, 0.0007, 7e-05, 7e-06, 7e-07, 7e-08, 7e-09, 8.0, 0.8, 0.08, 0.008, 0.0008, 8e-05, 8e-06, 8e-07, 8e-08, 8e-09, 9.0, 0.9, 0.09, 0.009, 0.0009, 9e-05, 9e-06, 9e-07, 9e-08, 9e-09]\n",
      "(Iteration 1 / 50) loss: 216.170611\n",
      "(Epoch 1 / 50) train acc: 0.220000; val_acc: 0.100000\n",
      "(Epoch 2 / 50) train acc: 0.300000; val_acc: 0.144000\n",
      "(Epoch 3 / 50) train acc: 0.180000; val_acc: 0.095000\n",
      "(Epoch 4 / 50) train acc: 0.160000; val_acc: 0.133000\n",
      "(Epoch 5 / 50) train acc: 0.360000; val_acc: 0.118000\n",
      "(Epoch 6 / 50) train acc: 0.480000; val_acc: 0.158000\n",
      "(Epoch 7 / 50) train acc: 0.420000; val_acc: 0.173000\n",
      "(Epoch 8 / 50) train acc: 0.600000; val_acc: 0.193000\n",
      "(Epoch 9 / 50) train acc: 0.600000; val_acc: 0.177000\n",
      "(Epoch 10 / 50) train acc: 0.660000; val_acc: 0.183000\n",
      "(Iteration 11 / 50) loss: 27.860881\n",
      "(Epoch 11 / 50) train acc: 0.680000; val_acc: 0.195000\n",
      "(Epoch 12 / 50) train acc: 0.740000; val_acc: 0.177000\n",
      "(Epoch 13 / 50) train acc: 0.780000; val_acc: 0.179000\n",
      "(Epoch 14 / 50) train acc: 0.760000; val_acc: 0.180000\n",
      "(Epoch 15 / 50) train acc: 0.780000; val_acc: 0.180000\n",
      "(Epoch 16 / 50) train acc: 0.760000; val_acc: 0.172000\n",
      "(Epoch 17 / 50) train acc: 0.780000; val_acc: 0.174000\n",
      "(Epoch 18 / 50) train acc: 0.800000; val_acc: 0.177000\n",
      "(Epoch 19 / 50) train acc: 0.820000; val_acc: 0.174000\n",
      "(Epoch 20 / 50) train acc: 0.880000; val_acc: 0.160000\n",
      "(Iteration 21 / 50) loss: 12.410119\n",
      "(Epoch 21 / 50) train acc: 0.880000; val_acc: 0.162000\n",
      "(Epoch 22 / 50) train acc: 0.880000; val_acc: 0.172000\n",
      "(Epoch 23 / 50) train acc: 0.880000; val_acc: 0.175000\n",
      "(Epoch 24 / 50) train acc: 0.880000; val_acc: 0.180000\n",
      "(Epoch 25 / 50) train acc: 0.900000; val_acc: 0.180000\n",
      "(Epoch 26 / 50) train acc: 0.920000; val_acc: 0.181000\n",
      "(Epoch 27 / 50) train acc: 0.940000; val_acc: 0.177000\n",
      "(Epoch 28 / 50) train acc: 0.940000; val_acc: 0.176000\n",
      "(Epoch 29 / 50) train acc: 0.960000; val_acc: 0.174000\n",
      "(Epoch 30 / 50) train acc: 0.960000; val_acc: 0.175000\n",
      "(Iteration 31 / 50) loss: 7.397836\n",
      "(Epoch 31 / 50) train acc: 0.960000; val_acc: 0.167000\n",
      "(Epoch 32 / 50) train acc: 0.960000; val_acc: 0.166000\n",
      "(Epoch 33 / 50) train acc: 0.960000; val_acc: 0.165000\n",
      "(Epoch 34 / 50) train acc: 0.960000; val_acc: 0.164000\n",
      "(Epoch 35 / 50) train acc: 0.980000; val_acc: 0.164000\n",
      "(Epoch 36 / 50) train acc: 1.000000; val_acc: 0.166000\n",
      "(Epoch 37 / 50) train acc: 1.000000; val_acc: 0.166000\n",
      "(Epoch 38 / 50) train acc: 1.000000; val_acc: 0.163000\n",
      "(Epoch 39 / 50) train acc: 1.000000; val_acc: 0.161000\n",
      "(Epoch 40 / 50) train acc: 1.000000; val_acc: 0.161000\n",
      "(Iteration 41 / 50) loss: 5.347863\n",
      "(Epoch 41 / 50) train acc: 1.000000; val_acc: 0.156000\n",
      "(Epoch 42 / 50) train acc: 1.000000; val_acc: 0.156000\n",
      "(Epoch 43 / 50) train acc: 1.000000; val_acc: 0.162000\n",
      "(Epoch 44 / 50) train acc: 1.000000; val_acc: 0.163000\n",
      "(Epoch 45 / 50) train acc: 1.000000; val_acc: 0.163000\n",
      "(Epoch 46 / 50) train acc: 1.000000; val_acc: 0.167000\n",
      "(Epoch 47 / 50) train acc: 1.000000; val_acc: 0.168000\n",
      "(Epoch 48 / 50) train acc: 1.000000; val_acc: 0.165000\n",
      "(Epoch 49 / 50) train acc: 1.000000; val_acc: 0.164000\n",
      "(Epoch 50 / 50) train acc: 1.000000; val_acc: 0.162000\n",
      "(0.0095, 0.05) 4.562001660789374\n",
      "Best training accuracy: 0.68, best parameters: learning rate 9.5E-03, weight_scale 5.0E-02\n"
     ]
    },
    {
     "data": {
      "image/png": "[encoded data removed]",
      "text/plain": [
       "<matplotlib.figure.Figure at 0x7f909c412a58>"
      ]
     },
     "metadata": {},
     "output_type": "display_data"
    }
   ],
   "source": [
    "# TODO: Use a five-layer Net to overfit 50 training examples.\n",
    "#print(data['y_train'], data['y_train'].shape)\n",
    "num_train = 50\n",
    "small_data = {\n",
    "    'X_train': data['X_train'][:num_train],\n",
    "    'y_train': data['y_train'][:num_train],\n",
    "    'X_val': data['X_val'],\n",
    "    'y_val': data['y_val'],\n",
    "}\n",
    "\n",
    "result = {}\n",
    "scales = []\n",
    "for prefactor in range(10):\n",
    "    for exponent in range(0, -10, -1):\n",
    "        scales.append(float(str(prefactor) + 'e' + str(exponent)))\n",
    "print(scales)\n",
    "\n",
    "#print(zip(scales, scales))\n",
    "\n",
    "#for learning_rate, weight_scale in zip(scales, scales):\n",
    "for learning_rate, weight_scale in zip([9.5e-3], [5e-2]): # 1e-2, 1e-1, adam\n",
    "    #model = FullyConnectedNet([100, 100, 100, 100],\n",
    "     #               weight_scale=weight_scale,dtype=np.float64)\n",
    "    model = FullyConnectedNet([100, 100, 100, 100],\n",
    "                    weight_scale=weight_scale,reg = 0.5,dtype=np.float64)\n",
    "    \n",
    "    solver = Solver(model, small_data,\n",
    "                    print_every=10, num_epochs=50, batch_size=256,\n",
    "                    update_rule='adam',\n",
    "                    optim_config={\n",
    "                      'learning_rate': learning_rate,\n",
    "                        \n",
    "                    },lr_decay=0.95\n",
    "             )\n",
    "    solver.train()\n",
    "    result[(learning_rate, weight_scale)] = solver\n",
    "\n",
    "best_loss = float('inf')\n",
    "for k, v in result.items():\n",
    "    print(k, v.loss_history[-1])\n",
    "    if v.loss_history[-1] < best_loss:\n",
    "        best_loss = v.loss_history[-1] \n",
    "        best_params = k\n",
    "        solver = v\n",
    "#print(solver.loss_history) \n",
    "print('Best training accuracy: %.2f, best parameters: learning rate %.1E, weight_scale %.1E' % (solver.check_accuracy(small_data['X_train'], small_data['y_train']),\n",
    "                                                                                                best_params[0],\n",
    "                                                                                               best_params[1]))\n",
    "plt.plot(solver.loss_history, 'o')\n",
    "plt.title('Training loss history')\n",
    "plt.xlabel('Iteration')\n",
    "plt.ylabel('Training loss')\n",
    "plt.show()"
   ]
  },
  {
   "cell_type": "markdown",
   "metadata": {},
   "source": [
    "<div class=\"alert alert-info\">\n",
    "    <h3>Inline Question</h3>\n",
    "    <p>Did you notice anything about the comparative difficulty of training the three-layer net vs training the five layer net?</p>\n",
    "        <p>A 3-layer net takes less time to train comparing to a 5-layer net, although train accuracy in a 3-layer net rises slower than a 5-layer net train accuracy. </p>\n",
    "</div>\n"
   ]
  },
  {
   "cell_type": "markdown",
   "metadata": {},
   "source": [
    "# Update rules\n",
    "So far we have used vanilla stochastic gradient descent (SGD) as our update rule. More sophisticated update rules can make it easier to train deep networks. We will implement a few of the most commonly used update rules and compare them to vanilla SGD."
   ]
  },
  {
   "cell_type": "markdown",
   "metadata": {},
   "source": [
    "# SGD+Momentum\n",
    "Stochastic gradient descent with momentum is a widely used update rule that tends to make deep networks converge faster than vanilla stochstic gradient descent.\n",
    "\n",
    "Open the file `exercise_code/optim.py` and read the documentation at the top of the file to make sure you understand the API. Implement the SGD+momentum update rule in the function `sgd_momentum` and run the following to check your implementation. You should see errors less than 1e-8."
   ]
  },
  {
   "cell_type": "code",
   "execution_count": 18,
   "metadata": {},
   "outputs": [
    {
     "name": "stdout",
     "output_type": "stream",
     "text": [
      "next_w error:  8.882347033505819e-09\n",
      "velocity error:  4.269287743278663e-09\n"
     ]
    }
   ],
   "source": [
    "from exercise_code.optim import sgd_momentum\n",
    "\n",
    "N, D = 4, 5\n",
    "w = np.linspace(-0.4, 0.6, num=N*D).reshape(N, D)\n",
    "dw = np.linspace(-0.6, 0.4, num=N*D).reshape(N, D)\n",
    "v = np.linspace(0.6, 0.9, num=N*D).reshape(N, D)\n",
    "\n",
    "config = {'learning_rate': 1e-3, 'velocity': v}\n",
    "next_w, _ = sgd_momentum(w, dw, config=config)\n",
    "\n",
    "expected_next_w = np.asarray([\n",
    "  [ 0.1406,      0.20738947,  0.27417895,  0.34096842,  0.40775789],\n",
    "  [ 0.47454737,  0.54133684,  0.60812632,  0.67491579,  0.74170526],\n",
    "  [ 0.80849474,  0.87528421,  0.94207368,  1.00886316,  1.07565263],\n",
    "  [ 1.14244211,  1.20923158,  1.27602105,  1.34281053,  1.4096    ]])\n",
    "expected_velocity = np.asarray([\n",
    "  [ 0.5406,      0.55475789,  0.56891579, 0.58307368,  0.59723158],\n",
    "  [ 0.61138947,  0.62554737,  0.63970526,  0.65386316,  0.66802105],\n",
    "  [ 0.68217895,  0.69633684,  0.71049474,  0.72465263,  0.73881053],\n",
    "  [ 0.75296842,  0.76712632,  0.78128421,  0.79544211,  0.8096    ]])\n",
    "\n",
    "print('next_w error: ', rel_error(next_w, expected_next_w))\n",
    "print('velocity error: ', rel_error(expected_velocity, config['velocity']))"
   ]
  },
  {
   "cell_type": "markdown",
   "metadata": {},
   "source": [
    "Once you have done so, run the following to train a six-layer network with both SGD and SGD+momentum. You should see the SGD+momentum update rule converge faster."
   ]
  },
  {
   "cell_type": "code",
   "execution_count": 19,
   "metadata": {
    "scrolled": false
   },
   "outputs": [
    {
     "name": "stdout",
     "output_type": "stream",
     "text": [
      "running with  sgd\n",
      "(Iteration 1 / 400) loss: 2.304124\n",
      "(Epoch 0 / 10) train acc: 0.099000; val_acc: 0.089000\n",
      "(Iteration 11 / 400) loss: 2.303547\n",
      "(Iteration 21 / 400) loss: 2.301211\n",
      "(Iteration 31 / 400) loss: 2.293063\n",
      "(Epoch 1 / 10) train acc: 0.118000; val_acc: 0.145000\n",
      "(Iteration 41 / 400) loss: 2.294336\n",
      "(Iteration 51 / 400) loss: 2.287914\n",
      "(Iteration 61 / 400) loss: 2.287698\n",
      "(Iteration 71 / 400) loss: 2.279669\n",
      "(Epoch 2 / 10) train acc: 0.180000; val_acc: 0.154000\n",
      "(Iteration 81 / 400) loss: 2.288742\n",
      "(Iteration 91 / 400) loss: 2.275407\n",
      "(Iteration 101 / 400) loss: 2.227685\n",
      "(Iteration 111 / 400) loss: 2.257024\n",
      "(Epoch 3 / 10) train acc: 0.182000; val_acc: 0.172000\n",
      "(Iteration 121 / 400) loss: 2.224754\n",
      "(Iteration 131 / 400) loss: 2.300557\n",
      "(Iteration 141 / 400) loss: 2.234377\n",
      "(Iteration 151 / 400) loss: 2.175791\n",
      "(Epoch 4 / 10) train acc: 0.205000; val_acc: 0.187000\n",
      "(Iteration 161 / 400) loss: 2.182679\n",
      "(Iteration 171 / 400) loss: 2.204594\n",
      "(Iteration 181 / 400) loss: 2.099608\n",
      "(Iteration 191 / 400) loss: 2.025436\n",
      "(Epoch 5 / 10) train acc: 0.242000; val_acc: 0.229000\n",
      "(Iteration 201 / 400) loss: 2.000117\n",
      "(Iteration 211 / 400) loss: 1.957431\n",
      "(Iteration 221 / 400) loss: 1.960829\n",
      "(Iteration 231 / 400) loss: 1.963784\n",
      "(Epoch 6 / 10) train acc: 0.268000; val_acc: 0.255000\n",
      "(Iteration 241 / 400) loss: 1.986951\n",
      "(Iteration 251 / 400) loss: 1.941920\n",
      "(Iteration 261 / 400) loss: 1.803407\n",
      "(Iteration 271 / 400) loss: 1.837709\n",
      "(Epoch 7 / 10) train acc: 0.309000; val_acc: 0.284000\n",
      "(Iteration 281 / 400) loss: 2.021189\n",
      "(Iteration 291 / 400) loss: 1.985397\n",
      "(Iteration 301 / 400) loss: 1.821963\n",
      "(Iteration 311 / 400) loss: 1.758605\n",
      "(Epoch 8 / 10) train acc: 0.339000; val_acc: 0.289000\n",
      "(Iteration 321 / 400) loss: 1.735044\n",
      "(Iteration 331 / 400) loss: 1.777147\n",
      "(Iteration 341 / 400) loss: 1.935924\n",
      "(Iteration 351 / 400) loss: 1.744207\n",
      "(Epoch 9 / 10) train acc: 0.321000; val_acc: 0.298000\n",
      "(Iteration 361 / 400) loss: 1.802531\n",
      "(Iteration 371 / 400) loss: 1.877414\n",
      "(Iteration 381 / 400) loss: 1.783178\n",
      "(Iteration 391 / 400) loss: 1.837397\n",
      "(Epoch 10 / 10) train acc: 0.358000; val_acc: 0.303000\n",
      "\n",
      "running with  sgd_momentum\n",
      "(Iteration 1 / 400) loss: 2.300284\n",
      "(Epoch 0 / 10) train acc: 0.101000; val_acc: 0.114000\n",
      "(Iteration 11 / 400) loss: 2.296329\n",
      "(Iteration 21 / 400) loss: 2.272766\n",
      "(Iteration 31 / 400) loss: 2.174359\n",
      "(Epoch 1 / 10) train acc: 0.247000; val_acc: 0.217000\n",
      "(Iteration 41 / 400) loss: 2.131425\n",
      "(Iteration 51 / 400) loss: 1.964925\n",
      "(Iteration 61 / 400) loss: 2.039764\n",
      "(Iteration 71 / 400) loss: 1.815813\n",
      "(Epoch 2 / 10) train acc: 0.286000; val_acc: 0.284000\n",
      "(Iteration 81 / 400) loss: 1.879506\n",
      "(Iteration 91 / 400) loss: 1.859859\n",
      "(Iteration 101 / 400) loss: 1.785911\n",
      "(Iteration 111 / 400) loss: 1.777087\n",
      "(Epoch 3 / 10) train acc: 0.408000; val_acc: 0.327000\n",
      "(Iteration 121 / 400) loss: 1.745531\n",
      "(Iteration 131 / 400) loss: 1.607959\n",
      "(Iteration 141 / 400) loss: 1.697480\n",
      "(Iteration 151 / 400) loss: 1.677248\n",
      "(Epoch 4 / 10) train acc: 0.394000; val_acc: 0.322000\n",
      "(Iteration 161 / 400) loss: 1.656433\n",
      "(Iteration 171 / 400) loss: 1.705296\n",
      "(Iteration 181 / 400) loss: 1.826834\n",
      "(Iteration 191 / 400) loss: 1.557351\n",
      "(Epoch 5 / 10) train acc: 0.476000; val_acc: 0.343000\n",
      "(Iteration 201 / 400) loss: 1.459817\n",
      "(Iteration 211 / 400) loss: 1.427233\n",
      "(Iteration 221 / 400) loss: 1.444516\n",
      "(Iteration 231 / 400) loss: 1.473036\n",
      "(Epoch 6 / 10) train acc: 0.473000; val_acc: 0.373000\n",
      "(Iteration 241 / 400) loss: 1.220132\n",
      "(Iteration 251 / 400) loss: 1.411419\n",
      "(Iteration 261 / 400) loss: 1.574663\n",
      "(Iteration 271 / 400) loss: 1.342620\n",
      "(Epoch 7 / 10) train acc: 0.540000; val_acc: 0.363000\n",
      "(Iteration 281 / 400) loss: 1.449429\n",
      "(Iteration 291 / 400) loss: 1.432078\n",
      "(Iteration 301 / 400) loss: 1.391334\n",
      "(Iteration 311 / 400) loss: 1.039811\n",
      "(Epoch 8 / 10) train acc: 0.535000; val_acc: 0.368000\n",
      "(Iteration 321 / 400) loss: 1.207390\n",
      "(Iteration 331 / 400) loss: 1.009333\n",
      "(Iteration 341 / 400) loss: 1.328725\n",
      "(Iteration 351 / 400) loss: 1.035912\n",
      "(Epoch 9 / 10) train acc: 0.577000; val_acc: 0.370000\n",
      "(Iteration 361 / 400) loss: 1.187990\n",
      "(Iteration 371 / 400) loss: 1.128780\n",
      "(Iteration 381 / 400) loss: 1.004092\n",
      "(Iteration 391 / 400) loss: 1.068627\n",
      "(Epoch 10 / 10) train acc: 0.596000; val_acc: 0.369000\n",
      "\n"
     ]
    },
    {
     "data": {
      "image/png": "[encoded data removed]",
      "text/plain": [
       "<matplotlib.figure.Figure at 0x7f909c297588>"
      ]
     },
     "metadata": {},
     "output_type": "display_data"
    }
   ],
   "source": [
    "num_train = 4000\n",
    "small_data = {\n",
    "    'X_train': data['X_train'][:num_train],\n",
    "    'y_train': data['y_train'][:num_train],\n",
    "    'X_val': data['X_val'],\n",
    "    'y_val': data['y_val'],\n",
    "}\n",
    "\n",
    "solvers = {}\n",
    "\n",
    "for update_rule in ['sgd', 'sgd_momentum']:\n",
    "    print('running with ', update_rule)\n",
    "    model = FullyConnectedNet([100, 100, 100, 100, 100], weight_scale=3e-2)\n",
    "\n",
    "    solver = Solver(model, small_data,\n",
    "                    num_epochs=10, batch_size=100,\n",
    "                    update_rule=update_rule,\n",
    "                    optim_config={'learning_rate': 1e-2},\n",
    "                    verbose=True)\n",
    "    solvers[update_rule] = solver\n",
    "    solver.train()\n",
    "    print()\n",
    "\n",
    "plt.subplot(3, 1, 1)\n",
    "plt.title('Training loss')\n",
    "plt.xlabel('Iteration')\n",
    "\n",
    "plt.subplot(3, 1, 2)\n",
    "plt.title('Training accuracy')\n",
    "plt.xlabel('Epoch')\n",
    "\n",
    "plt.subplot(3, 1, 3)\n",
    "plt.title('Validation accuracy')\n",
    "plt.xlabel('Epoch')\n",
    "\n",
    "for update_rule, solver in solvers.items():\n",
    "    plt.subplot(3, 1, 1)\n",
    "    plt.plot(solver.loss_history, 'o', label=update_rule)\n",
    "  \n",
    "    plt.subplot(3, 1, 2)\n",
    "    plt.plot(solver.train_acc_history, '-o', label=update_rule)\n",
    "\n",
    "    plt.subplot(3, 1, 3)\n",
    "    plt.plot(solver.val_acc_history, '-o', label=update_rule)\n",
    "  \n",
    "for i in [1, 2, 3]:\n",
    "    plt.subplot(3, 1, i)\n",
    "    plt.legend(loc='upper center', ncol=4)\n",
    "plt.gcf().set_size_inches(15, 15)\n",
    "plt.show()"
   ]
  },
  {
   "cell_type": "markdown",
   "metadata": {},
   "source": [
    "# Adam\n",
    "Adam [1] is an update rule that sets per-parameter learning rates by using a running average of the second moments of gradients.\n",
    "\n",
    "In the file `exercise_code/optim.py`, we have implemented the update rule `adam` for you. Check this implementation and make sure you understand what the optimizer is doing. Then train the fully connected net below to see how Adam affects the learning process.\n",
    "\n",
    "[1] Diederik Kingma and Jimmy Ba, \"Adam: A Method for Stochastic Optimization\", ICLR 2015."
   ]
  },
  {
   "cell_type": "code",
   "execution_count": 20,
   "metadata": {},
   "outputs": [
    {
     "name": "stdout",
     "output_type": "stream",
     "text": [
      "running with  adam\n",
      "(Iteration 1 / 200) loss: 2.679720\n",
      "(Epoch 0 / 5) train acc: 0.154000; val_acc: 0.138000\n",
      "(Iteration 11 / 200) loss: 2.118424\n",
      "(Iteration 21 / 200) loss: 1.948345\n",
      "(Iteration 31 / 200) loss: 1.834676\n",
      "(Epoch 1 / 5) train acc: 0.380000; val_acc: 0.323000\n",
      "(Iteration 41 / 200) loss: 1.795376\n",
      "(Iteration 51 / 200) loss: 1.584577\n",
      "(Iteration 61 / 200) loss: 1.839463\n",
      "(Iteration 71 / 200) loss: 1.663691\n",
      "(Epoch 2 / 5) train acc: 0.388000; val_acc: 0.325000\n",
      "(Iteration 81 / 200) loss: 1.578862\n",
      "(Iteration 91 / 200) loss: 1.591762\n",
      "(Iteration 101 / 200) loss: 1.498032\n",
      "(Iteration 111 / 200) loss: 1.699211\n",
      "(Epoch 3 / 5) train acc: 0.502000; val_acc: 0.338000\n",
      "(Iteration 121 / 200) loss: 1.589355\n",
      "(Iteration 131 / 200) loss: 1.406692\n",
      "(Iteration 141 / 200) loss: 1.376224\n",
      "(Iteration 151 / 200) loss: 1.332695\n",
      "(Epoch 4 / 5) train acc: 0.554000; val_acc: 0.361000\n",
      "(Iteration 161 / 200) loss: 1.384075\n",
      "(Iteration 171 / 200) loss: 1.340064\n",
      "(Iteration 181 / 200) loss: 1.177543\n",
      "(Iteration 191 / 200) loss: 1.338184\n",
      "(Epoch 5 / 5) train acc: 0.608000; val_acc: 0.376000\n",
      "\n"
     ]
    },
    {
     "data": {
      "image/png": "[encoded data removed]",
      "text/plain": [
       "<matplotlib.figure.Figure at 0x7f9096fbb240>"
      ]
     },
     "metadata": {},
     "output_type": "display_data"
    }
   ],
   "source": [
    "learning_rates = {'adam': 1e-3}\n",
    "update_rule = 'adam'\n",
    "print('running with ', update_rule)\n",
    "model = FullyConnectedNet([100, 100, 100, 100, 100], weight_scale=5e-2)\n",
    "\n",
    "solver = Solver(model, small_data,\n",
    "              num_epochs=5, batch_size=100,\n",
    "              update_rule=update_rule,\n",
    "              optim_config={\n",
    "                'learning_rate': learning_rates[update_rule]\n",
    "              },\n",
    "              verbose=True)\n",
    "solvers[update_rule] = solver\n",
    "solver.train()\n",
    "print()\n",
    "\n",
    "plt.subplot(3, 1, 1)\n",
    "plt.title('Training loss')\n",
    "plt.xlabel('Iteration')\n",
    "\n",
    "plt.subplot(3, 1, 2)\n",
    "plt.title('Training accuracy')\n",
    "plt.xlabel('Epoch')\n",
    "\n",
    "plt.subplot(3, 1, 3)\n",
    "plt.title('Validation accuracy')\n",
    "plt.xlabel('Epoch')\n",
    "\n",
    "for update_rule, solver in solvers.items():\n",
    "    plt.subplot(3, 1, 1)\n",
    "    plt.plot(solver.loss_history, 'o', label=update_rule)\n",
    "  \n",
    "    plt.subplot(3, 1, 2)\n",
    "    plt.plot(solver.train_acc_history, '-o', label=update_rule)\n",
    "\n",
    "    plt.subplot(3, 1, 3)\n",
    "    plt.plot(solver.val_acc_history, '-o', label=update_rule)\n",
    "  \n",
    "for i in [1, 2, 3]:\n",
    "    plt.subplot(3, 1, i)\n",
    "    plt.legend(loc='upper center', ncol=4)\n",
    "    \n",
    "plt.gcf().set_size_inches(15, 15)\n",
    "plt.show()"
   ]
  },
  {
   "cell_type": "markdown",
   "metadata": {},
   "source": [
    "# Train a good model!\n",
    "Train the best fully-connected model that you can on CIFAR-10, storing your best model in the `best_model` variable. We require you to get at least __50%__ accuracy on the validation set using a fully-connected net.\n",
    "\n",
    "You might find it useful to complete the `2_BatchNormalization.ipynb` and the `3_Dropout.ipynb` notebooks before completing this part, since this techniques can help you train powerful models."
   ]
  },
  {
   "cell_type": "code",
   "execution_count": 64,
   "metadata": {
    "scrolled": false
   },
   "outputs": [
    {
     "name": "stdout",
     "output_type": "stream",
     "text": [
      "(48000, 3, 32, 32) (1000, 3, 32, 32)\n",
      "(Iteration 1 / 9300) loss: 86.669649\n",
      "(Epoch 0 / 100) train acc: 0.101000; val_acc: 0.111000\n",
      "(Epoch 1 / 100) train acc: 0.250000; val_acc: 0.249000\n",
      "(Iteration 101 / 9300) loss: 2.254633\n",
      "(Epoch 2 / 100) train acc: 0.296000; val_acc: 0.281000\n",
      "(Iteration 201 / 9300) loss: 2.047862\n",
      "(Epoch 3 / 100) train acc: 0.297000; val_acc: 0.274000\n",
      "(Iteration 301 / 9300) loss: 2.005309\n",
      "(Epoch 4 / 100) train acc: 0.311000; val_acc: 0.279000\n",
      "(Iteration 401 / 9300) loss: 2.039947\n",
      "(Epoch 5 / 100) train acc: 0.331000; val_acc: 0.285000\n",
      "(Iteration 501 / 9300) loss: 1.968316\n",
      "(Epoch 6 / 100) train acc: 0.302000; val_acc: 0.301000\n",
      "(Iteration 601 / 9300) loss: 1.920825\n",
      "(Epoch 7 / 100) train acc: 0.330000; val_acc: 0.306000\n",
      "(Iteration 701 / 9300) loss: 1.924785\n",
      "(Epoch 8 / 100) train acc: 0.313000; val_acc: 0.303000\n",
      "(Iteration 801 / 9300) loss: 1.952823\n",
      "(Epoch 9 / 100) train acc: 0.285000; val_acc: 0.296000\n",
      "(Iteration 901 / 9300) loss: 1.944392\n",
      "(Epoch 10 / 100) train acc: 0.322000; val_acc: 0.297000\n",
      "(Iteration 1001 / 9300) loss: 1.945587\n",
      "(Epoch 11 / 100) train acc: 0.303000; val_acc: 0.312000\n",
      "(Iteration 1101 / 9300) loss: 1.967227\n",
      "(Epoch 12 / 100) train acc: 0.329000; val_acc: 0.330000\n",
      "(Iteration 1201 / 9300) loss: 1.979649\n",
      "(Epoch 13 / 100) train acc: 0.328000; val_acc: 0.325000\n",
      "(Iteration 1301 / 9300) loss: 1.870842\n",
      "(Epoch 14 / 100) train acc: 0.347000; val_acc: 0.321000\n",
      "(Epoch 15 / 100) train acc: 0.291000; val_acc: 0.326000\n",
      "(Iteration 1401 / 9300) loss: 1.899521\n",
      "(Epoch 16 / 100) train acc: 0.320000; val_acc: 0.328000\n",
      "(Iteration 1501 / 9300) loss: 1.896850\n",
      "(Epoch 17 / 100) train acc: 0.352000; val_acc: 0.325000\n",
      "(Iteration 1601 / 9300) loss: 1.941279\n",
      "(Epoch 18 / 100) train acc: 0.324000; val_acc: 0.319000\n",
      "(Iteration 1701 / 9300) loss: 1.894292\n",
      "(Epoch 19 / 100) train acc: 0.300000; val_acc: 0.334000\n",
      "(Iteration 1801 / 9300) loss: 1.897651\n",
      "(Epoch 20 / 100) train acc: 0.327000; val_acc: 0.344000\n",
      "(Iteration 1901 / 9300) loss: 1.895405\n",
      "(Epoch 21 / 100) train acc: 0.324000; val_acc: 0.336000\n",
      "(Iteration 2001 / 9300) loss: 1.861318\n",
      "(Epoch 22 / 100) train acc: 0.345000; val_acc: 0.325000\n",
      "(Iteration 2101 / 9300) loss: 1.938102\n",
      "(Epoch 23 / 100) train acc: 0.348000; val_acc: 0.337000\n",
      "(Iteration 2201 / 9300) loss: 1.896420\n",
      "(Epoch 24 / 100) train acc: 0.353000; val_acc: 0.354000\n",
      "(Iteration 2301 / 9300) loss: 1.895651\n",
      "(Epoch 25 / 100) train acc: 0.340000; val_acc: 0.340000\n",
      "(Iteration 2401 / 9300) loss: 1.919536\n",
      "(Epoch 26 / 100) train acc: 0.327000; val_acc: 0.334000\n",
      "(Iteration 2501 / 9300) loss: 1.789512\n",
      "(Epoch 27 / 100) train acc: 0.334000; val_acc: 0.340000\n",
      "(Iteration 2601 / 9300) loss: 1.845398\n",
      "(Epoch 28 / 100) train acc: 0.342000; val_acc: 0.345000\n",
      "(Epoch 29 / 100) train acc: 0.338000; val_acc: 0.324000\n",
      "(Iteration 2701 / 9300) loss: 1.890884\n",
      "(Epoch 30 / 100) train acc: 0.383000; val_acc: 0.340000\n",
      "(Iteration 2801 / 9300) loss: 1.895730\n",
      "(Epoch 31 / 100) train acc: 0.347000; val_acc: 0.329000\n",
      "(Iteration 2901 / 9300) loss: 1.863234\n",
      "(Epoch 32 / 100) train acc: 0.316000; val_acc: 0.340000\n",
      "(Iteration 3001 / 9300) loss: 1.889970\n",
      "(Epoch 33 / 100) train acc: 0.372000; val_acc: 0.335000\n",
      "(Iteration 3101 / 9300) loss: 1.830547\n",
      "(Epoch 34 / 100) train acc: 0.357000; val_acc: 0.348000\n",
      "(Iteration 3201 / 9300) loss: 1.825663\n",
      "(Epoch 35 / 100) train acc: 0.324000; val_acc: 0.339000\n",
      "(Iteration 3301 / 9300) loss: 1.839919\n",
      "(Epoch 36 / 100) train acc: 0.349000; val_acc: 0.341000\n",
      "(Iteration 3401 / 9300) loss: 1.816014\n",
      "(Epoch 37 / 100) train acc: 0.358000; val_acc: 0.347000\n",
      "(Iteration 3501 / 9300) loss: 1.871931\n",
      "(Epoch 38 / 100) train acc: 0.360000; val_acc: 0.343000\n",
      "(Iteration 3601 / 9300) loss: 1.885351\n",
      "(Epoch 39 / 100) train acc: 0.393000; val_acc: 0.362000\n",
      "(Iteration 3701 / 9300) loss: 1.757962\n",
      "(Epoch 40 / 100) train acc: 0.373000; val_acc: 0.343000\n",
      "(Iteration 3801 / 9300) loss: 1.827459\n",
      "(Epoch 41 / 100) train acc: 0.373000; val_acc: 0.348000\n",
      "(Iteration 3901 / 9300) loss: 1.762946\n",
      "(Epoch 42 / 100) train acc: 0.334000; val_acc: 0.345000\n",
      "(Epoch 43 / 100) train acc: 0.355000; val_acc: 0.354000\n",
      "(Iteration 4001 / 9300) loss: 1.787991\n",
      "(Epoch 44 / 100) train acc: 0.356000; val_acc: 0.370000\n",
      "(Iteration 4101 / 9300) loss: 1.751768\n",
      "(Epoch 45 / 100) train acc: 0.377000; val_acc: 0.359000\n",
      "(Iteration 4201 / 9300) loss: 1.811720\n",
      "(Epoch 46 / 100) train acc: 0.349000; val_acc: 0.357000\n",
      "(Iteration 4301 / 9300) loss: 1.831383\n",
      "(Epoch 47 / 100) train acc: 0.368000; val_acc: 0.361000\n",
      "(Iteration 4401 / 9300) loss: 1.790698\n",
      "(Epoch 48 / 100) train acc: 0.372000; val_acc: 0.343000\n",
      "(Iteration 4501 / 9300) loss: 1.819088\n",
      "(Epoch 49 / 100) train acc: 0.345000; val_acc: 0.360000\n",
      "(Iteration 4601 / 9300) loss: 1.813002\n",
      "(Epoch 50 / 100) train acc: 0.364000; val_acc: 0.355000\n",
      "(Iteration 4701 / 9300) loss: 1.809340\n",
      "(Epoch 51 / 100) train acc: 0.366000; val_acc: 0.364000\n",
      "(Iteration 4801 / 9300) loss: 1.774658\n",
      "(Epoch 52 / 100) train acc: 0.368000; val_acc: 0.354000\n",
      "(Iteration 4901 / 9300) loss: 1.758343\n",
      "(Epoch 53 / 100) train acc: 0.356000; val_acc: 0.370000\n",
      "(Iteration 5001 / 9300) loss: 1.723004\n",
      "(Epoch 54 / 100) train acc: 0.370000; val_acc: 0.360000\n",
      "(Iteration 5101 / 9300) loss: 1.780078\n",
      "(Epoch 55 / 100) train acc: 0.388000; val_acc: 0.370000\n",
      "(Iteration 5201 / 9300) loss: 1.782006\n",
      "(Epoch 56 / 100) train acc: 0.360000; val_acc: 0.371000\n",
      "(Iteration 5301 / 9300) loss: 1.754955\n",
      "(Epoch 57 / 100) train acc: 0.387000; val_acc: 0.364000\n",
      "(Epoch 58 / 100) train acc: 0.385000; val_acc: 0.370000\n",
      "(Iteration 5401 / 9300) loss: 1.781940\n",
      "(Epoch 59 / 100) train acc: 0.400000; val_acc: 0.362000\n",
      "(Iteration 5501 / 9300) loss: 1.779120\n",
      "(Epoch 60 / 100) train acc: 0.371000; val_acc: 0.366000\n",
      "(Iteration 5601 / 9300) loss: 1.698228\n",
      "(Epoch 61 / 100) train acc: 0.371000; val_acc: 0.372000\n",
      "(Iteration 5701 / 9300) loss: 1.744660\n",
      "(Epoch 62 / 100) train acc: 0.377000; val_acc: 0.362000\n",
      "(Iteration 5801 / 9300) loss: 1.735803\n",
      "(Epoch 63 / 100) train acc: 0.382000; val_acc: 0.374000\n",
      "(Iteration 5901 / 9300) loss: 1.718384\n",
      "(Epoch 64 / 100) train acc: 0.386000; val_acc: 0.372000\n",
      "(Iteration 6001 / 9300) loss: 1.685539\n",
      "(Epoch 65 / 100) train acc: 0.409000; val_acc: 0.364000\n",
      "(Iteration 6101 / 9300) loss: 1.717424\n",
      "(Epoch 66 / 100) train acc: 0.374000; val_acc: 0.376000\n",
      "(Iteration 6201 / 9300) loss: 1.777329\n",
      "(Epoch 67 / 100) train acc: 0.381000; val_acc: 0.364000\n",
      "(Iteration 6301 / 9300) loss: 1.748544\n",
      "(Epoch 68 / 100) train acc: 0.382000; val_acc: 0.363000\n",
      "(Iteration 6401 / 9300) loss: 1.752812\n",
      "(Epoch 69 / 100) train acc: 0.393000; val_acc: 0.386000\n",
      "(Iteration 6501 / 9300) loss: 1.737808\n",
      "(Epoch 70 / 100) train acc: 0.420000; val_acc: 0.383000\n",
      "(Iteration 6601 / 9300) loss: 1.734789\n",
      "(Epoch 71 / 100) train acc: 0.358000; val_acc: 0.374000\n",
      "(Epoch 72 / 100) train acc: 0.399000; val_acc: 0.374000\n",
      "(Iteration 6701 / 9300) loss: 1.749853\n",
      "(Epoch 73 / 100) train acc: 0.364000; val_acc: 0.380000\n",
      "(Iteration 6801 / 9300) loss: 1.698571\n",
      "(Epoch 74 / 100) train acc: 0.398000; val_acc: 0.380000\n",
      "(Iteration 6901 / 9300) loss: 1.746086\n",
      "(Epoch 75 / 100) train acc: 0.414000; val_acc: 0.388000\n",
      "(Iteration 7001 / 9300) loss: 1.703642\n",
      "(Epoch 76 / 100) train acc: 0.387000; val_acc: 0.373000\n",
      "(Iteration 7101 / 9300) loss: 1.726819\n",
      "(Epoch 77 / 100) train acc: 0.389000; val_acc: 0.379000\n",
      "(Iteration 7201 / 9300) loss: 1.841386\n",
      "(Epoch 78 / 100) train acc: 0.402000; val_acc: 0.390000\n",
      "(Iteration 7301 / 9300) loss: 1.709938\n",
      "(Epoch 79 / 100) train acc: 0.407000; val_acc: 0.369000\n",
      "(Iteration 7401 / 9300) loss: 1.683999\n",
      "(Epoch 80 / 100) train acc: 0.396000; val_acc: 0.393000\n",
      "(Iteration 7501 / 9300) loss: 1.722440\n",
      "(Epoch 81 / 100) train acc: 0.409000; val_acc: 0.388000\n",
      "(Iteration 7601 / 9300) loss: 1.664349\n",
      "(Epoch 82 / 100) train acc: 0.400000; val_acc: 0.375000\n",
      "(Iteration 7701 / 9300) loss: 1.671214\n",
      "(Epoch 83 / 100) train acc: 0.409000; val_acc: 0.383000\n",
      "(Iteration 7801 / 9300) loss: 1.704173\n",
      "(Epoch 84 / 100) train acc: 0.382000; val_acc: 0.391000\n",
      "(Iteration 7901 / 9300) loss: 1.671984\n",
      "(Epoch 85 / 100) train acc: 0.418000; val_acc: 0.389000\n",
      "(Epoch 86 / 100) train acc: 0.419000; val_acc: 0.392000\n",
      "(Iteration 8001 / 9300) loss: 1.661111\n",
      "(Epoch 87 / 100) train acc: 0.405000; val_acc: 0.380000\n",
      "(Iteration 8101 / 9300) loss: 1.633430\n",
      "(Epoch 88 / 100) train acc: 0.403000; val_acc: 0.392000\n"
     ]
    },
    {
     "name": "stdout",
     "output_type": "stream",
     "text": [
      "(Iteration 8201 / 9300) loss: 1.637344\n",
      "(Epoch 89 / 100) train acc: 0.377000; val_acc: 0.396000\n",
      "(Iteration 8301 / 9300) loss: 1.667906\n",
      "(Epoch 90 / 100) train acc: 0.402000; val_acc: 0.389000\n",
      "(Iteration 8401 / 9300) loss: 1.618100\n",
      "(Epoch 91 / 100) train acc: 0.406000; val_acc: 0.392000\n",
      "(Iteration 8501 / 9300) loss: 1.686475\n",
      "(Epoch 92 / 100) train acc: 0.397000; val_acc: 0.388000\n",
      "(Iteration 8601 / 9300) loss: 1.686402\n",
      "(Epoch 93 / 100) train acc: 0.410000; val_acc: 0.395000\n",
      "(Iteration 8701 / 9300) loss: 1.719463\n",
      "(Epoch 94 / 100) train acc: 0.398000; val_acc: 0.400000\n",
      "(Iteration 8801 / 9300) loss: 1.720937\n",
      "(Epoch 95 / 100) train acc: 0.414000; val_acc: 0.390000\n",
      "(Iteration 8901 / 9300) loss: 1.673164\n",
      "(Epoch 96 / 100) train acc: 0.369000; val_acc: 0.404000\n",
      "(Iteration 9001 / 9300) loss: 1.674077\n",
      "(Epoch 97 / 100) train acc: 0.404000; val_acc: 0.391000\n",
      "(Iteration 9101 / 9300) loss: 1.728639\n",
      "(Epoch 98 / 100) train acc: 0.406000; val_acc: 0.395000\n",
      "(Iteration 9201 / 9300) loss: 1.635999\n",
      "(Epoch 99 / 100) train acc: 0.422000; val_acc: 0.396000\n",
      "(Epoch 100 / 100) train acc: 0.420000; val_acc: 0.411000\n"
     ]
    }
   ],
   "source": [
    "best_model = FullyConnectedNet(hidden_dims=[200,200,200,200,200], reg=0.1, weight_scale=5e-2,dtype=np.float64)\n",
    "solver = None\n",
    "\n",
    "\n",
    "#num_train = 48000\n",
    "X_train  = data['X_train']\n",
    "X_val =  data['X_val']\n",
    "y_train = data['y_train']\n",
    "y_val = data['y_val']\n",
    "print(X_train.shape, X_val.shape)\n",
    "\n",
    "mydata = {\n",
    "  'X_train': X_train,\n",
    "  'y_train': y_train,\n",
    "  'X_val': X_val,\n",
    "  'y_val': y_val,\n",
    "}\n",
    "\n",
    "solver = Solver(best_model, mydata, update_rule='adam', optim_config={'learning_rate': 9.2e-3,},\n",
    "                lr_decay=0.95, num_epochs=100, batch_size=512, print_every=100)\n",
    "\n",
    "solver.train()\n",
    "################################################################################\n",
    "# TODO: Train the best FullyConnectedNet that you can on CIFAR-10. You might   #\n",
    "# batch normalization and dropout useful. Store your best model in the         #\n",
    "# best_model variable.                                                         #\n",
    "# Note that dropout is not required to pass beyond the linear scoring regime   #\n",
    "################################################################################\n",
    "pass\n",
    "################################################################################\n",
    "#                              END OF YOUR CODE                                #\n",
    "################################################################################"
   ]
  },
  {
   "cell_type": "code",
   "execution_count": 3,
   "metadata": {},
   "outputs": [
    {
     "name": "stdout",
     "output_type": "stream",
     "text": [
      "(Iteration 1 / 1395) loss: 2.309440\n",
      "(Epoch 0 / 15) train acc: 0.198000; val_acc: 0.231000\n",
      "(Epoch 1 / 15) train acc: 0.447000; val_acc: 0.450000\n",
      "(Iteration 101 / 1395) loss: 1.482353\n",
      "(Epoch 2 / 15) train acc: 0.541000; val_acc: 0.488000\n",
      "(Iteration 201 / 1395) loss: 1.238782\n",
      "(Epoch 3 / 15) train acc: 0.577000; val_acc: 0.505000\n",
      "(Iteration 301 / 1395) loss: 1.164334\n",
      "(Epoch 4 / 15) train acc: 0.618000; val_acc: 0.518000\n",
      "(Iteration 401 / 1395) loss: 1.038037\n",
      "(Epoch 5 / 15) train acc: 0.612000; val_acc: 0.525000\n",
      "(Iteration 501 / 1395) loss: 0.995831\n",
      "(Epoch 6 / 15) train acc: 0.659000; val_acc: 0.520000\n",
      "(Iteration 601 / 1395) loss: 0.820772\n",
      "(Epoch 7 / 15) train acc: 0.681000; val_acc: 0.522000\n",
      "(Iteration 701 / 1395) loss: 0.848220\n",
      "(Epoch 8 / 15) train acc: 0.698000; val_acc: 0.532000\n",
      "(Iteration 801 / 1395) loss: 0.778702\n",
      "(Epoch 9 / 15) train acc: 0.712000; val_acc: 0.531000\n",
      "(Iteration 901 / 1395) loss: 0.708009\n",
      "(Epoch 10 / 15) train acc: 0.753000; val_acc: 0.533000\n",
      "(Iteration 1001 / 1395) loss: 0.671599\n",
      "(Epoch 11 / 15) train acc: 0.758000; val_acc: 0.525000\n",
      "(Iteration 1101 / 1395) loss: 0.624039\n",
      "(Epoch 12 / 15) train acc: 0.772000; val_acc: 0.534000\n",
      "(Iteration 1201 / 1395) loss: 0.510042\n",
      "(Epoch 13 / 15) train acc: 0.774000; val_acc: 0.540000\n",
      "(Iteration 1301 / 1395) loss: 0.479592\n",
      "(Epoch 14 / 15) train acc: 0.793000; val_acc: 0.520000\n",
      "(Epoch 15 / 15) train acc: 0.824000; val_acc: 0.528000\n"
     ]
    }
   ],
   "source": [
    "############################\n",
    "############ SOLUTION #################\n",
    "##############################\n",
    "best_model = FullyConnectedNet(hidden_dims=[200,200,200,200,200], reg=0.0, weight_scale=2e-2,\n",
    "                                use_batchnorm  = True, dtype=np.float64)\n",
    "bn_solver = None\n",
    "################################################################################\n",
    "# TODO: Train the best FullyConnectedNet that you can on CIFAR-10. You might   #\n",
    "# batch normalization and dropout useful. Store your best model in the         #\n",
    "# best_model variable.                                                         #\n",
    "# Note that dropout is not required to pass beyond the linear scoring regime   #\n",
    "################################################################################\n",
    "\n",
    "X_train  = data['X_train']\n",
    "X_val =  data['X_val']\n",
    "y_train = data['y_train']\n",
    "y_val = data['y_val']\n",
    "\n",
    "\n",
    "mydata = {\n",
    "  'X_train': X_train,\n",
    "  'y_train': y_train,\n",
    "  'X_val': X_val,\n",
    "  'y_val': y_val,\n",
    "}\n",
    "\n",
    "\n",
    "\n",
    "bn_solver = Solver(best_model, mydata, update_rule='adam', optim_config={'learning_rate': 1e-3,},\n",
    "                lr_decay=0.95, num_epochs=15, batch_size=512, print_every=100)\n",
    "\n",
    "bn_solver.train()\n",
    "\n",
    "pass\n",
    "################################################################################\n",
    "#                              END OF YOUR CODE                                #\n",
    "################################################################################"
   ]
  },
  {
   "cell_type": "markdown",
   "metadata": {},
   "source": [
    "Learning rate 1e-3, batch normalisation true, weight scale 5e-2, batch size 500, epochs 50 update rule Adam , 5 hidden layers 200 nodes each"
   ]
  },
  {
   "cell_type": "code",
   "execution_count": 31,
   "metadata": {},
   "outputs": [
    {
     "name": "stdout",
     "output_type": "stream",
     "text": [
      "(Iteration 1 / 1395) loss: 2.318939\n",
      "(Epoch 0 / 15) train acc: 0.203000; val_acc: 0.204000\n",
      "(Epoch 1 / 15) train acc: 0.454000; val_acc: 0.457000\n",
      "(Iteration 101 / 1395) loss: 1.388796\n",
      "(Epoch 2 / 15) train acc: 0.518000; val_acc: 0.498000\n",
      "(Iteration 201 / 1395) loss: 1.267048\n",
      "(Epoch 3 / 15) train acc: 0.571000; val_acc: 0.496000\n",
      "(Iteration 301 / 1395) loss: 1.170597\n",
      "(Epoch 4 / 15) train acc: 0.603000; val_acc: 0.514000\n",
      "(Iteration 401 / 1395) loss: 1.088258\n",
      "(Epoch 5 / 15) train acc: 0.599000; val_acc: 0.504000\n",
      "(Iteration 501 / 1395) loss: 1.013686\n",
      "(Epoch 6 / 15) train acc: 0.656000; val_acc: 0.528000\n",
      "(Iteration 601 / 1395) loss: 0.900926\n",
      "(Epoch 7 / 15) train acc: 0.668000; val_acc: 0.540000\n",
      "(Iteration 701 / 1395) loss: 0.832157\n",
      "(Epoch 8 / 15) train acc: 0.676000; val_acc: 0.518000\n",
      "(Iteration 801 / 1395) loss: 0.852589\n",
      "(Epoch 9 / 15) train acc: 0.741000; val_acc: 0.527000\n",
      "(Iteration 901 / 1395) loss: 0.750947\n",
      "(Epoch 10 / 15) train acc: 0.751000; val_acc: 0.539000\n",
      "(Iteration 1001 / 1395) loss: 0.683908\n",
      "(Epoch 11 / 15) train acc: 0.759000; val_acc: 0.539000\n",
      "(Iteration 1101 / 1395) loss: 0.624832\n",
      "(Epoch 12 / 15) train acc: 0.793000; val_acc: 0.525000\n",
      "(Iteration 1201 / 1395) loss: 0.518308\n",
      "(Epoch 13 / 15) train acc: 0.790000; val_acc: 0.516000\n",
      "(Iteration 1301 / 1395) loss: 0.543843\n",
      "(Epoch 14 / 15) train acc: 0.817000; val_acc: 0.518000\n",
      "(Epoch 15 / 15) train acc: 0.829000; val_acc: 0.514000\n"
     ]
    }
   ],
   "source": [
    "best_model2 = FullyConnectedNet(hidden_dims=[200,200,200,200,200], reg=0.0, weight_scale=2e-2,\n",
    "                                use_batchnorm  = True, dtype=np.float64)\n",
    "bn_solver = None\n",
    "################################################################################\n",
    "# TODO: Train the best FullyConnectedNet that you can on CIFAR-10. You might   #\n",
    "# batch normalization and dropout useful. Store your best model in the         #\n",
    "# best_model variable.                                                         #\n",
    "# Note that dropout is not required to pass beyond the linear scoring regime   #\n",
    "################################################################################\n",
    "\n",
    "X_train  = data['X_train']\n",
    "X_val =  data['X_val']\n",
    "y_train = data['y_train']\n",
    "y_val = data['y_val']\n",
    "\n",
    "\n",
    "mydata = {\n",
    "  'X_train': X_train,\n",
    "  'y_train': y_train,\n",
    "  'X_val': X_val,\n",
    "  'y_val': y_val,\n",
    "}\n",
    "\n",
    "\n",
    "\n",
    "bn_solver = Solver(best_model2, mydata, update_rule='adam', optim_config={'learning_rate': 1e-3,},\n",
    "                lr_decay=0.95, num_epochs=15, batch_size=512, print_every=100)\n",
    "\n",
    "bn_solver.train()\n",
    "\n",
    "pass\n",
    "################################################################################\n",
    "#                              END OF YOUR CODE                                #\n",
    "################################################################################"
   ]
  },
  {
   "cell_type": "code",
   "execution_count": 47,
   "metadata": {},
   "outputs": [
    {
     "name": "stdout",
     "output_type": "stream",
     "text": [
      "(Iteration 1 / 93) loss: 2.329024\n",
      "(Epoch 0 / 1) train acc: 0.199000; val_acc: 0.204000\n",
      "(Epoch 1 / 1) train acc: 0.474000; val_acc: 0.463000\n",
      "(Iteration 1 / 186) loss: 2.323373\n",
      "(Epoch 0 / 2) train acc: 0.185000; val_acc: 0.193000\n",
      "(Epoch 1 / 2) train acc: 0.467000; val_acc: 0.496000\n",
      "(Iteration 101 / 186) loss: 1.391199\n",
      "(Epoch 2 / 2) train acc: 0.551000; val_acc: 0.488000\n"
     ]
    }
   ],
   "source": [
    "#best_model3 = FullyConnectedNet(hidden_dims=[200,200,200,200,200], reg=0.0, weight_scale=2e-2,\n",
    "#                                use_batchnorm  = True, dtype=np.float64)\n",
    "bn_solver = None\n",
    "################################################################################\n",
    "# TODO: Train the best FullyConnectedNet that you can on CIFAR-10. You might   #\n",
    "# batch normalization and dropout useful. Store your best model in the         #\n",
    "# best_model variable.                                                         #\n",
    "# Note that dropout is not required to pass beyond the linear scoring regime   #\n",
    "################################################################################\n",
    "\n",
    "X_train  = data['X_train']\n",
    "X_val =  data['X_val']\n",
    "y_train = data['y_train']\n",
    "y_val = data['y_val']\n",
    "\n",
    "best_val = -1\n",
    "\n",
    "mydata = {\n",
    "  'X_train': X_train,\n",
    "  'y_train': y_train,\n",
    "  'X_val': X_val,\n",
    "  'y_val': y_val,\n",
    "}\n",
    "\n",
    "for epochs  in [1,2]:\n",
    "    best_model3 = FullyConnectedNet(hidden_dims=[200,200,200,200,200], reg=0.0, weight_scale=2e-2,\n",
    "                                use_batchnorm  = True, dtype=np.float64)\n",
    "    bn_solver = Solver(best_model3, mydata, update_rule='adam', optim_config={'learning_rate': 1e-3,},\n",
    "                    lr_decay=0.95, num_epochs=epochs, batch_size=512, print_every=100)\n",
    "\n",
    "    bn_solver.train()\n",
    "    \n",
    "    y_val_pred = np.argmax(best_model2.loss(X_val), axis=1)\n",
    "    v_a = np.mean(y_val == y_val_pred)\n",
    "    best_val = max(best_val, v_a)\n",
    "    if(best_val== v_a):\n",
    "        best_model_mine = best_model3\n",
    "        best_solver = bn_solver\n",
    "\n",
    "pass\n",
    "################################################################################\n",
    "#                              END OF YOUR CODE                                #\n",
    "################################################################################"
   ]
  },
  {
   "cell_type": "markdown",
   "metadata": {},
   "source": [
    "# Test you model\n",
    "Run your best model on the validation and test sets. You should achieve score of above __50%__ accuracy on the validation set."
   ]
  },
  {
   "cell_type": "markdown",
   "metadata": {},
   "source": [
    "# Experiments\n"
   ]
  },
  {
   "cell_type": "code",
   "execution_count": 1,
   "metadata": {},
   "outputs": [
    {
     "name": "stdout",
     "output_type": "stream",
     "text": [
      "X_train:  (48000, 3, 32, 32)\n",
      "y_train:  (48000,)\n",
      "X_val:  (1000, 3, 32, 32)\n",
      "y_val:  (1000,)\n",
      "X_test:  (1000, 3, 32, 32)\n",
      "y_test:  (1000,)\n"
     ]
    }
   ],
   "source": [
    "# As usual, a bit of setup\n",
    "\n",
    "import time\n",
    "import numpy as np\n",
    "import matplotlib.pyplot as plt\n",
    "from exercise_code.classifiers.fc_net import *\n",
    "from exercise_code.data_utils import get_CIFAR10_data\n",
    "from exercise_code.gradient_check import eval_numerical_gradient, eval_numerical_gradient_array\n",
    "from exercise_code.solver import Solver\n",
    "\n",
    "%matplotlib inline\n",
    "plt.rcParams['figure.figsize'] = (10.0, 8.0) # set default size of plots\n",
    "plt.rcParams['image.interpolation'] = 'nearest'\n",
    "plt.rcParams['image.cmap'] = 'gray'\n",
    "\n",
    "# for auto-reloading external modules\n",
    "# see http://stackoverflow.com/questions/1907993/autoreload-of-modules-in-ipython\n",
    "%load_ext autoreload\n",
    "%autoreload 2\n",
    "\n",
    "# supress cluttering warnings in solutions\n",
    "import warnings\n",
    "warnings.filterwarnings('ignore')\n",
    "\n",
    "def rel_error(x, y):\n",
    "  \"\"\" returns relative error \"\"\"\n",
    "  return np.max(np.abs(x - y) / (np.maximum(1e-8, np.abs(x) + np.abs(y))))\n",
    "\n",
    "# Load the (preprocessed) CIFAR10 data.\n",
    "\n",
    "data = get_CIFAR10_data()\n",
    "for k, v in data.items():\n",
    "    print('%s: ' % k, v.shape)"
   ]
  },
  {
   "cell_type": "code",
   "execution_count": 8,
   "metadata": {},
   "outputs": [
    {
     "name": "stdout",
     "output_type": "stream",
     "text": [
      "(Iteration 1 / 93) loss: 2.303707\n",
      "(Epoch 0 / 1) train acc: 0.143000; val_acc: 0.143000\n",
      "(Epoch 1 / 1) train acc: 0.218000; val_acc: 0.223000\n"
     ]
    }
   ],
   "source": [
    "best_model_ = FullyConnectedNet(hidden_dims=[5,10,3], reg=0.0, weight_scale=2e-2,\n",
    "                               use_batchnorm  = True, dtype=np.float64)\n",
    "#best_model_ = TwoLayerNet(hidden_dim=5, reg=0.5, weight_scale=1e-3)  \n",
    "bn_solver = None\n",
    "\n",
    "mydata = {\n",
    "  'X_train': data['X_train'],\n",
    "  'y_train': data['y_train'],\n",
    "  'X_val': data['X_val'],\n",
    "  'y_val': data['y_val'],\n",
    "}\n",
    "\n",
    "\n",
    "\n",
    "bn_solver = Solver(best_model_, mydata, update_rule='adam', optim_config={'learning_rate': 1e-3,},\n",
    "                lr_decay=0.95, num_epochs=1, batch_size=512, print_every=100)\n",
    "\n",
    "bn_solver.train()\n",
    "\n",
    "pass\n"
   ]
  },
  {
   "cell_type": "code",
   "execution_count": 9,
   "metadata": {},
   "outputs": [
    {
     "name": "stdout",
     "output_type": "stream",
     "text": [
      "Validation set accuracy:  0.223\n",
      "Test set accuracy:  0.214\n"
     ]
    }
   ],
   "source": [
    "X_test = data['X_test']\n",
    "X_val = data['X_val']\n",
    "y_val = data['y_val']\n",
    "y_test = data['y_test']\n",
    "\n",
    "y_test_pred = np.argmax(best_model_.loss(X_test), axis=1)\n",
    "y_val_pred = np.argmax(best_model_.loss(X_val), axis=1)\n",
    "print('Validation set accuracy: ', (y_val_pred == y_val).mean())\n",
    "print('Test set accuracy: ', (y_test_pred == y_test).mean())"
   ]
  },
  {
   "cell_type": "code",
   "execution_count": 10,
   "metadata": {},
   "outputs": [
    {
     "ename": "PicklingError",
     "evalue": "Can't pickle <class 'exercise_code.classifiers.fc_net.FullyConnectedNet'>: it's not the same object as exercise_code.classifiers.fc_net.FullyConnectedNet",
     "output_type": "error",
     "traceback": [
      "\u001b[0;31m---------------------------------------------------------------------------\u001b[0m",
      "\u001b[0;31mPicklingError\u001b[0m                             Traceback (most recent call last)",
      "\u001b[0;32m<ipython-input-10-7891662af90b>\u001b[0m in \u001b[0;36m<module>\u001b[0;34m()\u001b[0m\n\u001b[1;32m      1\u001b[0m \u001b[0;32mfrom\u001b[0m \u001b[0mexercise_code\u001b[0m\u001b[0;34m.\u001b[0m\u001b[0mmodel_savers\u001b[0m \u001b[0;32mimport\u001b[0m \u001b[0msave_fully_connected_net\u001b[0m\u001b[0;34m\u001b[0m\u001b[0m\n\u001b[0;32m----> 2\u001b[0;31m \u001b[0msave_fully_connected_net\u001b[0m\u001b[0;34m(\u001b[0m\u001b[0mbest_model_\u001b[0m\u001b[0;34m)\u001b[0m\u001b[0;34m\u001b[0m\u001b[0m\n\u001b[0m",
      "\u001b[0;32m/home/marina/Desktop/uni/i2dl/exercise_2/exercise_code/model_savers.py\u001b[0m in \u001b[0;36msave_fully_connected_net\u001b[0;34m(classifier)\u001b[0m\n\u001b[1;32m     13\u001b[0m \u001b[0;32mdef\u001b[0m \u001b[0msave_fully_connected_net\u001b[0m\u001b[0;34m(\u001b[0m\u001b[0mclassifier\u001b[0m\u001b[0;34m)\u001b[0m\u001b[0;34m:\u001b[0m\u001b[0;34m\u001b[0m\u001b[0m\n\u001b[1;32m     14\u001b[0m     \u001b[0mmodelname\u001b[0m \u001b[0;34m=\u001b[0m \u001b[0;34m'fully_connected_net'\u001b[0m\u001b[0;34m\u001b[0m\u001b[0m\n\u001b[0;32m---> 15\u001b[0;31m     \u001b[0msave_model\u001b[0m\u001b[0;34m(\u001b[0m\u001b[0mmodelname\u001b[0m\u001b[0;34m,\u001b[0m \u001b[0mclassifier\u001b[0m\u001b[0;34m)\u001b[0m\u001b[0;34m\u001b[0m\u001b[0m\n\u001b[0m",
      "\u001b[0;32m/home/marina/Desktop/uni/i2dl/exercise_2/exercise_code/model_savers.py\u001b[0m in \u001b[0;36msave_model\u001b[0;34m(modelname, data)\u001b[0m\n\u001b[1;32m      8\u001b[0m     \u001b[0;32mif\u001b[0m \u001b[0;32mnot\u001b[0m \u001b[0mos\u001b[0m\u001b[0;34m.\u001b[0m\u001b[0mpath\u001b[0m\u001b[0;34m.\u001b[0m\u001b[0mexists\u001b[0m\u001b[0;34m(\u001b[0m\u001b[0mdir\u001b[0m\u001b[0;34m)\u001b[0m\u001b[0;34m:\u001b[0m\u001b[0;34m\u001b[0m\u001b[0m\n\u001b[1;32m      9\u001b[0m         \u001b[0mos\u001b[0m\u001b[0;34m.\u001b[0m\u001b[0mmakedirs\u001b[0m\u001b[0;34m(\u001b[0m\u001b[0mdir\u001b[0m\u001b[0;34m)\u001b[0m\u001b[0;34m\u001b[0m\u001b[0m\n\u001b[0;32m---> 10\u001b[0;31m     \u001b[0mpickle\u001b[0m\u001b[0;34m.\u001b[0m\u001b[0mdump\u001b[0m\u001b[0;34m(\u001b[0m\u001b[0mmodel\u001b[0m\u001b[0;34m,\u001b[0m \u001b[0mopen\u001b[0m\u001b[0;34m(\u001b[0m\u001b[0mdir\u001b[0m \u001b[0;34m+\u001b[0m \u001b[0;34m'/'\u001b[0m \u001b[0;34m+\u001b[0m \u001b[0mmodelname\u001b[0m \u001b[0;34m+\u001b[0m \u001b[0;34m'.p'\u001b[0m\u001b[0;34m,\u001b[0m \u001b[0;34m'wb'\u001b[0m\u001b[0;34m)\u001b[0m\u001b[0;34m)\u001b[0m\u001b[0;34m\u001b[0m\u001b[0m\n\u001b[0m\u001b[1;32m     11\u001b[0m \u001b[0;34m\u001b[0m\u001b[0m\n\u001b[1;32m     12\u001b[0m \u001b[0;34m\u001b[0m\u001b[0m\n",
      "\u001b[0;31mPicklingError\u001b[0m: Can't pickle <class 'exercise_code.classifiers.fc_net.FullyConnectedNet'>: it's not the same object as exercise_code.classifiers.fc_net.FullyConnectedNet"
     ]
    }
   ],
   "source": [
    "from exercise_code.model_savers import save_fully_connected_net\n",
    "save_fully_connected_net(best_model_)"
   ]
  },
  {
   "cell_type": "markdown",
   "metadata": {},
   "source": [
    "# End of experiment"
   ]
  },
  {
   "cell_type": "code",
   "execution_count": 48,
   "metadata": {},
   "outputs": [
    {
     "name": "stdout",
     "output_type": "stream",
     "text": [
      "Validation set accuracy:  0.539\n",
      "Test set accuracy:  0.56\n"
     ]
    }
   ],
   "source": [
    "X_test = data['X_test']\n",
    "X_val = data['X_val']\n",
    "y_val = data['y_val']\n",
    "y_test = data['y_test']\n",
    "\n",
    "y_test_pred = np.argmax(best_model2.loss(X_test), axis=1)\n",
    "y_val_pred = np.argmax(best_model2.loss(X_val), axis=1)\n",
    "print('Validation set accuracy: ', (y_val_pred == y_val).mean())\n",
    "print('Test set accuracy: ', (y_test_pred == y_test).mean())"
   ]
  },
  {
   "cell_type": "code",
   "execution_count": 4,
   "metadata": {},
   "outputs": [
    {
     "name": "stdout",
     "output_type": "stream",
     "text": [
      "Validation set accuracy:  0.548\n",
      "Test set accuracy:  0.555\n"
     ]
    }
   ],
   "source": [
    "X_test = data['X_test']\n",
    "X_val = data['X_val']\n",
    "y_val = data['y_val']\n",
    "y_test = data['y_test']\n",
    "\n",
    "y_test_pred = np.argmax(best_model.loss(X_test), axis=1)\n",
    "y_val_pred = np.argmax(best_model.loss(X_val), axis=1)\n",
    "print('Validation set accuracy: ', (y_val_pred == y_val).mean())\n",
    "print('Test set accuracy: ', (y_test_pred == y_test).mean())"
   ]
  },
  {
   "cell_type": "markdown",
   "metadata": {},
   "source": [
    "## Save the model\n",
    "\n",
    "When you are satisfied with your training, save the model for submission."
   ]
  },
  {
   "cell_type": "code",
   "execution_count": 5,
   "metadata": {
    "collapsed": true
   },
   "outputs": [],
   "source": [
    "from exercise_code.model_savers import save_fully_connected_net\n",
    "save_fully_connected_net(best_model)"
   ]
  },
  {
   "cell_type": "code",
   "execution_count": 60,
   "metadata": {},
   "outputs": [
    {
     "ename": "PicklingError",
     "evalue": "Can't pickle <class 'exercise_code.classifiers.fc_net.FullyConnectedNet'>: it's not the same object as exercise_code.classifiers.fc_net.FullyConnectedNet",
     "output_type": "error",
     "traceback": [
      "\u001b[0;31m---------------------------------------------------------------------------\u001b[0m",
      "\u001b[0;31mPicklingError\u001b[0m                             Traceback (most recent call last)",
      "\u001b[0;32m<ipython-input-60-13e479bbed8f>\u001b[0m in \u001b[0;36m<module>\u001b[0;34m()\u001b[0m\n\u001b[1;32m      1\u001b[0m \u001b[0;32mfrom\u001b[0m \u001b[0mexercise_code\u001b[0m\u001b[0;34m.\u001b[0m\u001b[0mmodel_savers\u001b[0m \u001b[0;32mimport\u001b[0m \u001b[0msave_fully_connected_net\u001b[0m\u001b[0;34m\u001b[0m\u001b[0m\n\u001b[0;32m----> 2\u001b[0;31m \u001b[0msave_fully_connected_net\u001b[0m\u001b[0;34m(\u001b[0m\u001b[0mbest_model\u001b[0m\u001b[0;34m)\u001b[0m\u001b[0;34m\u001b[0m\u001b[0m\n\u001b[0m",
      "\u001b[0;32m/home/marina/Desktop/uni/i2dl/exercise_2/exercise_code/model_savers.py\u001b[0m in \u001b[0;36msave_fully_connected_net\u001b[0;34m(classifier)\u001b[0m\n\u001b[1;32m     13\u001b[0m \u001b[0;32mdef\u001b[0m \u001b[0msave_fully_connected_net\u001b[0m\u001b[0;34m(\u001b[0m\u001b[0mclassifier\u001b[0m\u001b[0;34m)\u001b[0m\u001b[0;34m:\u001b[0m\u001b[0;34m\u001b[0m\u001b[0m\n\u001b[1;32m     14\u001b[0m     \u001b[0mmodelname\u001b[0m \u001b[0;34m=\u001b[0m \u001b[0;34m'fully_connected_net'\u001b[0m\u001b[0;34m\u001b[0m\u001b[0m\n\u001b[0;32m---> 15\u001b[0;31m     \u001b[0msave_model\u001b[0m\u001b[0;34m(\u001b[0m\u001b[0mmodelname\u001b[0m\u001b[0;34m,\u001b[0m \u001b[0mclassifier\u001b[0m\u001b[0;34m)\u001b[0m\u001b[0;34m\u001b[0m\u001b[0m\n\u001b[0m",
      "\u001b[0;32m/home/marina/Desktop/uni/i2dl/exercise_2/exercise_code/model_savers.py\u001b[0m in \u001b[0;36msave_model\u001b[0;34m(modelname, data)\u001b[0m\n\u001b[1;32m      8\u001b[0m     \u001b[0;32mif\u001b[0m \u001b[0;32mnot\u001b[0m \u001b[0mos\u001b[0m\u001b[0;34m.\u001b[0m\u001b[0mpath\u001b[0m\u001b[0;34m.\u001b[0m\u001b[0mexists\u001b[0m\u001b[0;34m(\u001b[0m\u001b[0mdir\u001b[0m\u001b[0;34m)\u001b[0m\u001b[0;34m:\u001b[0m\u001b[0;34m\u001b[0m\u001b[0m\n\u001b[1;32m      9\u001b[0m         \u001b[0mos\u001b[0m\u001b[0;34m.\u001b[0m\u001b[0mmakedirs\u001b[0m\u001b[0;34m(\u001b[0m\u001b[0mdir\u001b[0m\u001b[0;34m)\u001b[0m\u001b[0;34m\u001b[0m\u001b[0m\n\u001b[0;32m---> 10\u001b[0;31m     \u001b[0mpickle\u001b[0m\u001b[0;34m.\u001b[0m\u001b[0mdump\u001b[0m\u001b[0;34m(\u001b[0m\u001b[0mmodel\u001b[0m\u001b[0;34m,\u001b[0m \u001b[0mopen\u001b[0m\u001b[0;34m(\u001b[0m\u001b[0mdir\u001b[0m \u001b[0;34m+\u001b[0m \u001b[0;34m'/'\u001b[0m \u001b[0;34m+\u001b[0m \u001b[0mmodelname\u001b[0m \u001b[0;34m+\u001b[0m \u001b[0;34m'.p'\u001b[0m\u001b[0;34m,\u001b[0m \u001b[0;34m'wb'\u001b[0m\u001b[0;34m)\u001b[0m\u001b[0;34m)\u001b[0m\u001b[0;34m\u001b[0m\u001b[0m\n\u001b[0m\u001b[1;32m     11\u001b[0m \u001b[0;34m\u001b[0m\u001b[0m\n\u001b[1;32m     12\u001b[0m \u001b[0;34m\u001b[0m\u001b[0m\n",
      "\u001b[0;31mPicklingError\u001b[0m: Can't pickle <class 'exercise_code.classifiers.fc_net.FullyConnectedNet'>: it's not the same object as exercise_code.classifiers.fc_net.FullyConnectedNet"
     ]
    }
   ],
   "source": [
    "from exercise_code.model_savers import save_fully_connected_net\n",
    "save_fully_connected_net(best_model)"
   ]
  },
  {
   "cell_type": "code",
   "execution_count": 12,
   "metadata": {},
   "outputs": [
    {
     "name": "stdout",
     "output_type": "stream",
     "text": [
      "(3072, 200) (200,)\n"
     ]
    }
   ],
   "source": [
    "print(best_model.params['W1'].shape, best_model.params['b1'].shape)"
   ]
  },
  {
   "cell_type": "code",
   "execution_count": null,
   "metadata": {
    "collapsed": true
   },
   "outputs": [],
   "source": []
  }
 ],
 "metadata": {
  "kernelspec": {
   "display_name": "Python 3",
   "language": "python",
   "name": "python3"
  },
  "language_info": {
   "codemirror_mode": {
    "name": "ipython",
    "version": 3
   },
   "file_extension": ".py",
   "mimetype": "text/x-python",
   "name": "python",
   "nbconvert_exporter": "python",
   "pygments_lexer": "ipython3",
   "version": "3.6.5"
  }
 },
 "nbformat": 4,
 "nbformat_minor": 1
}
